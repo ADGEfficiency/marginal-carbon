{
 "cells": [
  {
   "cell_type": "code",
   "execution_count": 3,
   "metadata": {},
   "outputs": [],
   "source": [
    "import pandas as pd"
   ]
  },
  {
   "cell_type": "code",
   "execution_count": 4,
   "metadata": {},
   "outputs": [],
   "source": [
    "df = pd.read_pickle('/home/bastian/Desktop/Portfolio_project/play_chunk.pkl')"
   ]
  },
  {
   "cell_type": "code",
   "execution_count": 5,
   "metadata": {},
   "outputs": [
    {
     "data": {
      "text/html": [
       "<div>\n",
       "<style scoped>\n",
       "    .dataframe tbody tr th:only-of-type {\n",
       "        vertical-align: middle;\n",
       "    }\n",
       "\n",
       "    .dataframe tbody tr th {\n",
       "        vertical-align: top;\n",
       "    }\n",
       "\n",
       "    .dataframe thead th {\n",
       "        text-align: right;\n",
       "    }\n",
       "</style>\n",
       "<table border=\"1\" class=\"dataframe\">\n",
       "  <thead>\n",
       "    <tr style=\"text-align: right;\">\n",
       "      <th></th>\n",
       "      <th>PeriodID</th>\n",
       "      <th>RegionID</th>\n",
       "      <th>Market</th>\n",
       "      <th>Price</th>\n",
       "      <th>Unit</th>\n",
       "      <th>DispatchedMarket</th>\n",
       "      <th>BandNo</th>\n",
       "      <th>Increase</th>\n",
       "      <th>RRNBandPrice</th>\n",
       "      <th>BandCost</th>\n",
       "    </tr>\n",
       "  </thead>\n",
       "  <tbody>\n",
       "    <tr>\n",
       "      <td>0</td>\n",
       "      <td>2018-05-12T02:50:00+10:00</td>\n",
       "      <td>NSW1</td>\n",
       "      <td>Energy</td>\n",
       "      <td>37.0097</td>\n",
       "      <td>ER03</td>\n",
       "      <td>ENOF</td>\n",
       "      <td>2</td>\n",
       "      <td>1</td>\n",
       "      <td>37.01</td>\n",
       "      <td>37.01</td>\n",
       "    </tr>\n",
       "    <tr>\n",
       "      <td>1</td>\n",
       "      <td>2018-05-12T02:50:00+10:00</td>\n",
       "      <td>NSW1</td>\n",
       "      <td>Energy</td>\n",
       "      <td>37.0097</td>\n",
       "      <td>ENOF,ER03,2,ER04,2</td>\n",
       "      <td>tbslack2</td>\n",
       "      <td>NaN</td>\n",
       "      <td>-140</td>\n",
       "      <td>0</td>\n",
       "      <td>-0.00014</td>\n",
       "    </tr>\n",
       "    <tr>\n",
       "      <td>2</td>\n",
       "      <td>2018-05-12T02:50:00+10:00</td>\n",
       "      <td>NSW1</td>\n",
       "      <td>Energy</td>\n",
       "      <td>37.0097</td>\n",
       "      <td>ENOF,ER02,2,ER03,2</td>\n",
       "      <td>tbslack1</td>\n",
       "      <td>NaN</td>\n",
       "      <td>-300</td>\n",
       "      <td>0</td>\n",
       "      <td>-0.0003</td>\n",
       "    </tr>\n",
       "    <tr>\n",
       "      <td>3</td>\n",
       "      <td>2018-05-12T02:50:00+10:00</td>\n",
       "      <td>NSW1</td>\n",
       "      <td>Energy</td>\n",
       "      <td>37.0097</td>\n",
       "      <td>ENOF,ER01,2,ER03,2</td>\n",
       "      <td>tbslack2</td>\n",
       "      <td>NaN</td>\n",
       "      <td>140</td>\n",
       "      <td>0</td>\n",
       "      <td>0.00014</td>\n",
       "    </tr>\n",
       "    <tr>\n",
       "      <td>4</td>\n",
       "      <td>2018-05-12T02:50:00+10:00</td>\n",
       "      <td>NSW1</td>\n",
       "      <td>R6SE</td>\n",
       "      <td>7.01</td>\n",
       "      <td>GSTONE5</td>\n",
       "      <td>R5RE</td>\n",
       "      <td>1</td>\n",
       "      <td>1</td>\n",
       "      <td>7.2</td>\n",
       "      <td>7.2</td>\n",
       "    </tr>\n",
       "  </tbody>\n",
       "</table>\n",
       "</div>"
      ],
      "text/plain": [
       "                    PeriodID RegionID  Market    Price                Unit  \\\n",
       "0  2018-05-12T02:50:00+10:00     NSW1  Energy  37.0097                ER03   \n",
       "1  2018-05-12T02:50:00+10:00     NSW1  Energy  37.0097  ENOF,ER03,2,ER04,2   \n",
       "2  2018-05-12T02:50:00+10:00     NSW1  Energy  37.0097  ENOF,ER02,2,ER03,2   \n",
       "3  2018-05-12T02:50:00+10:00     NSW1  Energy  37.0097  ENOF,ER01,2,ER03,2   \n",
       "4  2018-05-12T02:50:00+10:00     NSW1    R6SE     7.01             GSTONE5   \n",
       "\n",
       "  DispatchedMarket BandNo Increase RRNBandPrice  BandCost  \n",
       "0             ENOF      2        1        37.01     37.01  \n",
       "1         tbslack2    NaN     -140            0  -0.00014  \n",
       "2         tbslack1    NaN     -300            0   -0.0003  \n",
       "3         tbslack2    NaN      140            0   0.00014  \n",
       "4             R5RE      1        1          7.2       7.2  "
      ]
     },
     "execution_count": 5,
     "metadata": {},
     "output_type": "execute_result"
    }
   ],
   "source": [
    "df.head()"
   ]
  },
  {
   "cell_type": "code",
   "execution_count": 6,
   "metadata": {},
   "outputs": [
    {
     "data": {
      "text/plain": [
       "(8315753, 10)"
      ]
     },
     "execution_count": 6,
     "metadata": {},
     "output_type": "execute_result"
    }
   ],
   "source": [
    "df.shape"
   ]
  },
  {
   "cell_type": "code",
   "execution_count": 9,
   "metadata": {},
   "outputs": [],
   "source": [
    "df.query('Market == \"Energy\" and RegionID == \"SA1\"', inplace=True)\n",
    "df.to_pickle('/home/bastian/Desktop/Portfolio_project/20171001_20180731.pkl')"
   ]
  },
  {
   "cell_type": "code",
   "execution_count": 2,
   "metadata": {},
   "outputs": [
    {
     "data": {
      "text/plain": [
       "'/home/bastian/Desktop'"
      ]
     },
     "execution_count": 2,
     "metadata": {},
     "output_type": "execute_result"
    }
   ],
   "source": [
    "pwd"
   ]
  },
  {
   "cell_type": "code",
   "execution_count": null,
   "metadata": {},
   "outputs": [],
   "source": []
  }
 ],
 "metadata": {
  "kernelspec": {
   "display_name": "Python 3",
   "language": "python",
   "name": "python3"
  },
  "language_info": {
   "codemirror_mode": {
    "name": "ipython",
    "version": 3
   },
   "file_extension": ".py",
   "mimetype": "text/x-python",
   "name": "python",
   "nbconvert_exporter": "python",
   "pygments_lexer": "ipython3",
   "version": "3.6.8"
  }
 },
 "nbformat": 4,
 "nbformat_minor": 4
}
