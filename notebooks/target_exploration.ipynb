{
 "cells": [
  {
   "cell_type": "code",
   "execution_count": 2,
   "metadata": {},
   "outputs": [],
   "source": [
    "import pandas as pd\n",
    "import datetime as dt\n",
    "import pytz\n",
    "import os"
   ]
  },
  {
   "cell_type": "code",
   "execution_count": 7,
   "metadata": {},
   "outputs": [],
   "source": [
    "#final code_block <- works\n",
    "\n",
    "def mod_concat_NEM(file_path):\n",
    "    df = pd.read_pickle(file_path)\n",
    "    df = df.set_index('PeriodID', drop=True)\n",
    "    df.index = pd.to_datetime(df.index).tz_localize(None)\n",
    "    print(df.info())\n",
    "    df.sort_index(inplace=True, ascending=False)\n",
    "    df.index = df.index - dt.timedelta(minutes = 5)\n",
    "    df = df.loc[df.index < dt.datetime(2018,8,1), :]\n",
    "    return df"
   ]
  },
  {
   "cell_type": "code",
   "execution_count": 8,
   "metadata": {},
   "outputs": [
    {
     "name": "stdout",
     "output_type": "stream",
     "text": [
      "<class 'pandas.core.frame.DataFrame'>\n",
      "DatetimeIndex: 5951880 entries, 2015-06-23 13:40:00 to 2012-01-11 12:45:00\n",
      "Data columns (total 9 columns):\n",
      "RegionID            object\n",
      "Market              object\n",
      "Price               object\n",
      "Unit                object\n",
      "DispatchedMarket    object\n",
      "BandNo              object\n",
      "Increase            object\n",
      "RRNBandPrice        object\n",
      "BandCost            object\n",
      "dtypes: object(9)\n",
      "memory usage: 454.1+ MB\n",
      "None\n"
     ]
    }
   ],
   "source": [
    "file = '{}/nem-data/nemde_clean/concat_for_energy_SA1'.format(os.environ['HOME'])\n",
    "\n",
    "df = mod_concat_NEM(file)"
   ]
  },
  {
   "cell_type": "code",
   "execution_count": 192,
   "metadata": {},
   "outputs": [],
   "source": [
    "df.drop(columns=[\"BandNo\",\"RRNBandPrice\",\"BandCost\"], inplace=True)"
   ]
  },
  {
   "cell_type": "code",
   "execution_count": 193,
   "metadata": {},
   "outputs": [],
   "source": [
    "df[[\"Price\", \"Increase\"]] = df[[\"Price\", \"Increase\"]].astype(float)"
   ]
  },
  {
   "cell_type": "code",
   "execution_count": 219,
   "metadata": {},
   "outputs": [
    {
     "name": "stdout",
     "output_type": "stream",
     "text": [
      "<class 'pandas.core.frame.DataFrame'>\n",
      "DatetimeIndex: 5951707 entries, 2018-07-31 23:55:00 to 2009-07-01 04:00:00\n",
      "Data columns (total 6 columns):\n",
      "RegionID            object\n",
      "Market              object\n",
      "Price               float64\n",
      "Unit                object\n",
      "DispatchedMarket    object\n",
      "Increase            float64\n",
      "dtypes: float64(2), object(4)\n",
      "memory usage: 357.9+ MB\n"
     ]
    }
   ],
   "source": [
    "df.info()"
   ]
  },
  {
   "cell_type": "code",
   "execution_count": 218,
   "metadata": {},
   "outputs": [
    {
     "data": {
      "text/plain": [
       "RegionID            False\n",
       "Market              False\n",
       "Price               False\n",
       "Unit                False\n",
       "DispatchedMarket    False\n",
       "Increase            False\n",
       "dtype: bool"
      ]
     },
     "execution_count": 218,
     "metadata": {},
     "output_type": "execute_result"
    }
   ],
   "source": [
    "df.isna().any()"
   ]
  },
  {
   "cell_type": "code",
   "execution_count": 29,
   "metadata": {},
   "outputs": [
    {
     "data": {
      "text/html": [
       "<div>\n",
       "<style scoped>\n",
       "    .dataframe tbody tr th:only-of-type {\n",
       "        vertical-align: middle;\n",
       "    }\n",
       "\n",
       "    .dataframe tbody tr th {\n",
       "        vertical-align: top;\n",
       "    }\n",
       "\n",
       "    .dataframe thead th {\n",
       "        text-align: right;\n",
       "    }\n",
       "</style>\n",
       "<table border=\"1\" class=\"dataframe\">\n",
       "  <thead>\n",
       "    <tr style=\"text-align: right;\">\n",
       "      <th></th>\n",
       "      <th>RegionID</th>\n",
       "      <th>Market</th>\n",
       "      <th>Price</th>\n",
       "      <th>Unit</th>\n",
       "      <th>DispatchedMarket</th>\n",
       "      <th>BandNo</th>\n",
       "      <th>Increase</th>\n",
       "      <th>RRNBandPrice</th>\n",
       "      <th>BandCost</th>\n",
       "    </tr>\n",
       "    <tr>\n",
       "      <th>PeriodID</th>\n",
       "      <th></th>\n",
       "      <th></th>\n",
       "      <th></th>\n",
       "      <th></th>\n",
       "      <th></th>\n",
       "      <th></th>\n",
       "      <th></th>\n",
       "      <th></th>\n",
       "      <th></th>\n",
       "    </tr>\n",
       "  </thead>\n",
       "  <tbody>\n",
       "    <tr>\n",
       "      <td>2018-07-31 23:55:00</td>\n",
       "      <td>SA1</td>\n",
       "      <td>Energy</td>\n",
       "      <td>70.70204</td>\n",
       "      <td>ER01</td>\n",
       "      <td>ENOF</td>\n",
       "      <td>3</td>\n",
       "      <td>0.34712</td>\n",
       "      <td>53.75</td>\n",
       "      <td>18.657483</td>\n",
       "    </tr>\n",
       "    <tr>\n",
       "      <td>2018-07-31 23:55:00</td>\n",
       "      <td>SA1</td>\n",
       "      <td>Energy</td>\n",
       "      <td>70.70204</td>\n",
       "      <td>ER04</td>\n",
       "      <td>ENOF</td>\n",
       "      <td>3</td>\n",
       "      <td>0.31058</td>\n",
       "      <td>53.75</td>\n",
       "      <td>16.693537</td>\n",
       "    </tr>\n",
       "    <tr>\n",
       "      <td>2018-07-31 23:55:00</td>\n",
       "      <td>SA1</td>\n",
       "      <td>Energy</td>\n",
       "      <td>70.70204</td>\n",
       "      <td>ER03</td>\n",
       "      <td>ENOF</td>\n",
       "      <td>3</td>\n",
       "      <td>0.34712</td>\n",
       "      <td>53.75</td>\n",
       "      <td>18.657483</td>\n",
       "    </tr>\n",
       "    <tr>\n",
       "      <td>2018-07-31 23:55:00</td>\n",
       "      <td>SA1</td>\n",
       "      <td>Energy</td>\n",
       "      <td>70.70204</td>\n",
       "      <td>ER02</td>\n",
       "      <td>ENOF</td>\n",
       "      <td>3</td>\n",
       "      <td>0.31058</td>\n",
       "      <td>53.75</td>\n",
       "      <td>16.693537</td>\n",
       "    </tr>\n",
       "    <tr>\n",
       "      <td>2018-07-31 23:50:00</td>\n",
       "      <td>SA1</td>\n",
       "      <td>Energy</td>\n",
       "      <td>69.24109</td>\n",
       "      <td>DEVILS_G</td>\n",
       "      <td>L5MI</td>\n",
       "      <td>4</td>\n",
       "      <td>-1.29132</td>\n",
       "      <td>0.14</td>\n",
       "      <td>-0.180785</td>\n",
       "    </tr>\n",
       "    <tr>\n",
       "      <td>2018-07-31 23:50:00</td>\n",
       "      <td>SA1</td>\n",
       "      <td>Energy</td>\n",
       "      <td>69.24109</td>\n",
       "      <td>ER01</td>\n",
       "      <td>ENOF</td>\n",
       "      <td>3</td>\n",
       "      <td>0.64566</td>\n",
       "      <td>53.75</td>\n",
       "      <td>34.704259</td>\n",
       "    </tr>\n",
       "    <tr>\n",
       "      <td>2018-07-31 23:50:00</td>\n",
       "      <td>SA1</td>\n",
       "      <td>Energy</td>\n",
       "      <td>69.24109</td>\n",
       "      <td>ER01</td>\n",
       "      <td>L5RE</td>\n",
       "      <td>1</td>\n",
       "      <td>0.64566</td>\n",
       "      <td>0.01</td>\n",
       "      <td>0.006457</td>\n",
       "    </tr>\n",
       "    <tr>\n",
       "      <td>2018-07-31 23:50:00</td>\n",
       "      <td>SA1</td>\n",
       "      <td>Energy</td>\n",
       "      <td>69.24109</td>\n",
       "      <td>ENOF,ER01,3,ER02,3</td>\n",
       "      <td>tbslack1</td>\n",
       "      <td>NaN</td>\n",
       "      <td>109.76231</td>\n",
       "      <td>0</td>\n",
       "      <td>0.00011</td>\n",
       "    </tr>\n",
       "    <tr>\n",
       "      <td>2018-07-31 23:50:00</td>\n",
       "      <td>SA1</td>\n",
       "      <td>Energy</td>\n",
       "      <td>69.24109</td>\n",
       "      <td>ENOF,ER03,3,ER04,3</td>\n",
       "      <td>tbslack1</td>\n",
       "      <td>NaN</td>\n",
       "      <td>109.76231</td>\n",
       "      <td>0</td>\n",
       "      <td>0.00011</td>\n",
       "    </tr>\n",
       "    <tr>\n",
       "      <td>2018-07-31 23:50:00</td>\n",
       "      <td>SA1</td>\n",
       "      <td>Energy</td>\n",
       "      <td>69.24109</td>\n",
       "      <td>ER03</td>\n",
       "      <td>L5RE</td>\n",
       "      <td>1</td>\n",
       "      <td>0.64566</td>\n",
       "      <td>0.01</td>\n",
       "      <td>0.006457</td>\n",
       "    </tr>\n",
       "    <tr>\n",
       "      <td>2018-07-31 23:50:00</td>\n",
       "      <td>SA1</td>\n",
       "      <td>Energy</td>\n",
       "      <td>69.24109</td>\n",
       "      <td>ENOF,ER01,3,ER04,3</td>\n",
       "      <td>tbslack1</td>\n",
       "      <td>NaN</td>\n",
       "      <td>109.76231</td>\n",
       "      <td>0</td>\n",
       "      <td>0.00011</td>\n",
       "    </tr>\n",
       "    <tr>\n",
       "      <td>2018-07-31 23:50:00</td>\n",
       "      <td>SA1</td>\n",
       "      <td>Energy</td>\n",
       "      <td>69.24109</td>\n",
       "      <td>ER03</td>\n",
       "      <td>ENOF</td>\n",
       "      <td>3</td>\n",
       "      <td>0.64566</td>\n",
       "      <td>53.75</td>\n",
       "      <td>34.704259</td>\n",
       "    </tr>\n",
       "    <tr>\n",
       "      <td>2018-07-31 23:50:00</td>\n",
       "      <td>SA1</td>\n",
       "      <td>Energy</td>\n",
       "      <td>69.24109</td>\n",
       "      <td>ENOF,ER02,3,ER03,3</td>\n",
       "      <td>tbslack2</td>\n",
       "      <td>NaN</td>\n",
       "      <td>109.76231</td>\n",
       "      <td>0</td>\n",
       "      <td>0.00011</td>\n",
       "    </tr>\n",
       "    <tr>\n",
       "      <td>2018-07-31 23:45:00</td>\n",
       "      <td>SA1</td>\n",
       "      <td>Energy</td>\n",
       "      <td>69.9485</td>\n",
       "      <td>ER01</td>\n",
       "      <td>ENOF</td>\n",
       "      <td>3</td>\n",
       "      <td>0.34342</td>\n",
       "      <td>53.75</td>\n",
       "      <td>18.458632</td>\n",
       "    </tr>\n",
       "    <tr>\n",
       "      <td>2018-07-31 23:45:00</td>\n",
       "      <td>SA1</td>\n",
       "      <td>Energy</td>\n",
       "      <td>69.9485</td>\n",
       "      <td>ER04</td>\n",
       "      <td>ENOF</td>\n",
       "      <td>3</td>\n",
       "      <td>0.30727</td>\n",
       "      <td>53.75</td>\n",
       "      <td>16.515618</td>\n",
       "    </tr>\n",
       "    <tr>\n",
       "      <td>2018-07-31 23:45:00</td>\n",
       "      <td>SA1</td>\n",
       "      <td>Energy</td>\n",
       "      <td>69.9485</td>\n",
       "      <td>ER02</td>\n",
       "      <td>ENOF</td>\n",
       "      <td>3</td>\n",
       "      <td>0.30727</td>\n",
       "      <td>53.75</td>\n",
       "      <td>16.515618</td>\n",
       "    </tr>\n",
       "    <tr>\n",
       "      <td>2018-07-31 23:45:00</td>\n",
       "      <td>SA1</td>\n",
       "      <td>Energy</td>\n",
       "      <td>69.9485</td>\n",
       "      <td>ER03</td>\n",
       "      <td>ENOF</td>\n",
       "      <td>3</td>\n",
       "      <td>0.34342</td>\n",
       "      <td>53.75</td>\n",
       "      <td>18.458632</td>\n",
       "    </tr>\n",
       "    <tr>\n",
       "      <td>2018-07-31 23:40:00</td>\n",
       "      <td>SA1</td>\n",
       "      <td>Energy</td>\n",
       "      <td>74.04497</td>\n",
       "      <td>VP5</td>\n",
       "      <td>ENOF</td>\n",
       "      <td>4</td>\n",
       "      <td>0.63832</td>\n",
       "      <td>58</td>\n",
       "      <td>37.022487</td>\n",
       "    </tr>\n",
       "    <tr>\n",
       "      <td>2018-07-31 23:40:00</td>\n",
       "      <td>SA1</td>\n",
       "      <td>Energy</td>\n",
       "      <td>74.04497</td>\n",
       "      <td>VP6</td>\n",
       "      <td>ENOF</td>\n",
       "      <td>4</td>\n",
       "      <td>0.63832</td>\n",
       "      <td>58</td>\n",
       "      <td>37.022487</td>\n",
       "    </tr>\n",
       "    <tr>\n",
       "      <td>2018-07-31 23:35:00</td>\n",
       "      <td>SA1</td>\n",
       "      <td>Energy</td>\n",
       "      <td>76.44245</td>\n",
       "      <td>ENOF,GSTONE1,5,GSTONE5,5</td>\n",
       "      <td>tbslack1</td>\n",
       "      <td>NaN</td>\n",
       "      <td>16.45455</td>\n",
       "      <td>0</td>\n",
       "      <td>0.000016</td>\n",
       "    </tr>\n",
       "  </tbody>\n",
       "</table>\n",
       "</div>"
      ],
      "text/plain": [
       "                    RegionID  Market     Price                      Unit  \\\n",
       "PeriodID                                                                   \n",
       "2018-07-31 23:55:00      SA1  Energy  70.70204                      ER01   \n",
       "2018-07-31 23:55:00      SA1  Energy  70.70204                      ER04   \n",
       "2018-07-31 23:55:00      SA1  Energy  70.70204                      ER03   \n",
       "2018-07-31 23:55:00      SA1  Energy  70.70204                      ER02   \n",
       "2018-07-31 23:50:00      SA1  Energy  69.24109                  DEVILS_G   \n",
       "2018-07-31 23:50:00      SA1  Energy  69.24109                      ER01   \n",
       "2018-07-31 23:50:00      SA1  Energy  69.24109                      ER01   \n",
       "2018-07-31 23:50:00      SA1  Energy  69.24109        ENOF,ER01,3,ER02,3   \n",
       "2018-07-31 23:50:00      SA1  Energy  69.24109        ENOF,ER03,3,ER04,3   \n",
       "2018-07-31 23:50:00      SA1  Energy  69.24109                      ER03   \n",
       "2018-07-31 23:50:00      SA1  Energy  69.24109        ENOF,ER01,3,ER04,3   \n",
       "2018-07-31 23:50:00      SA1  Energy  69.24109                      ER03   \n",
       "2018-07-31 23:50:00      SA1  Energy  69.24109        ENOF,ER02,3,ER03,3   \n",
       "2018-07-31 23:45:00      SA1  Energy   69.9485                      ER01   \n",
       "2018-07-31 23:45:00      SA1  Energy   69.9485                      ER04   \n",
       "2018-07-31 23:45:00      SA1  Energy   69.9485                      ER02   \n",
       "2018-07-31 23:45:00      SA1  Energy   69.9485                      ER03   \n",
       "2018-07-31 23:40:00      SA1  Energy  74.04497                       VP5   \n",
       "2018-07-31 23:40:00      SA1  Energy  74.04497                       VP6   \n",
       "2018-07-31 23:35:00      SA1  Energy  76.44245  ENOF,GSTONE1,5,GSTONE5,5   \n",
       "\n",
       "                    DispatchedMarket BandNo   Increase RRNBandPrice   BandCost  \n",
       "PeriodID                                                                        \n",
       "2018-07-31 23:55:00             ENOF      3    0.34712        53.75  18.657483  \n",
       "2018-07-31 23:55:00             ENOF      3    0.31058        53.75  16.693537  \n",
       "2018-07-31 23:55:00             ENOF      3    0.34712        53.75  18.657483  \n",
       "2018-07-31 23:55:00             ENOF      3    0.31058        53.75  16.693537  \n",
       "2018-07-31 23:50:00             L5MI      4   -1.29132         0.14  -0.180785  \n",
       "2018-07-31 23:50:00             ENOF      3    0.64566        53.75  34.704259  \n",
       "2018-07-31 23:50:00             L5RE      1    0.64566         0.01   0.006457  \n",
       "2018-07-31 23:50:00         tbslack1    NaN  109.76231            0    0.00011  \n",
       "2018-07-31 23:50:00         tbslack1    NaN  109.76231            0    0.00011  \n",
       "2018-07-31 23:50:00             L5RE      1    0.64566         0.01   0.006457  \n",
       "2018-07-31 23:50:00         tbslack1    NaN  109.76231            0    0.00011  \n",
       "2018-07-31 23:50:00             ENOF      3    0.64566        53.75  34.704259  \n",
       "2018-07-31 23:50:00         tbslack2    NaN  109.76231            0    0.00011  \n",
       "2018-07-31 23:45:00             ENOF      3    0.34342        53.75  18.458632  \n",
       "2018-07-31 23:45:00             ENOF      3    0.30727        53.75  16.515618  \n",
       "2018-07-31 23:45:00             ENOF      3    0.30727        53.75  16.515618  \n",
       "2018-07-31 23:45:00             ENOF      3    0.34342        53.75  18.458632  \n",
       "2018-07-31 23:40:00             ENOF      4    0.63832           58  37.022487  \n",
       "2018-07-31 23:40:00             ENOF      4    0.63832           58  37.022487  \n",
       "2018-07-31 23:35:00         tbslack1    NaN   16.45455            0   0.000016  "
      ]
     },
     "execution_count": 29,
     "metadata": {},
     "output_type": "execute_result"
    }
   ],
   "source": [
    "df.head(20)"
   ]
  },
  {
   "cell_type": "code",
   "execution_count": 22,
   "metadata": {},
   "outputs": [
    {
     "data": {
      "text/plain": [
       "(5951707, 9)"
      ]
     },
     "execution_count": 22,
     "metadata": {},
     "output_type": "execute_result"
    }
   ],
   "source": [
    "df.shape"
   ]
  },
  {
   "cell_type": "code",
   "execution_count": 195,
   "metadata": {},
   "outputs": [
    {
     "data": {
      "text/html": [
       "<div>\n",
       "<style scoped>\n",
       "    .dataframe tbody tr th:only-of-type {\n",
       "        vertical-align: middle;\n",
       "    }\n",
       "\n",
       "    .dataframe tbody tr th {\n",
       "        vertical-align: top;\n",
       "    }\n",
       "\n",
       "    .dataframe thead th {\n",
       "        text-align: right;\n",
       "    }\n",
       "</style>\n",
       "<table border=\"1\" class=\"dataframe\">\n",
       "  <thead>\n",
       "    <tr style=\"text-align: right;\">\n",
       "      <th></th>\n",
       "      <th>Price</th>\n",
       "    </tr>\n",
       "    <tr>\n",
       "      <th>PeriodID</th>\n",
       "      <th></th>\n",
       "    </tr>\n",
       "  </thead>\n",
       "  <tbody>\n",
       "    <tr>\n",
       "      <td>2018-07-31 23:55:00</td>\n",
       "      <td>4</td>\n",
       "    </tr>\n",
       "    <tr>\n",
       "      <td>2018-07-31 23:50:00</td>\n",
       "      <td>9</td>\n",
       "    </tr>\n",
       "    <tr>\n",
       "      <td>2018-07-31 23:45:00</td>\n",
       "      <td>4</td>\n",
       "    </tr>\n",
       "    <tr>\n",
       "      <td>2018-07-31 23:40:00</td>\n",
       "      <td>2</td>\n",
       "    </tr>\n",
       "    <tr>\n",
       "      <td>2018-07-31 23:35:00</td>\n",
       "      <td>12</td>\n",
       "    </tr>\n",
       "    <tr>\n",
       "      <td>...</td>\n",
       "      <td>...</td>\n",
       "    </tr>\n",
       "    <tr>\n",
       "      <td>2009-07-01 04:20:00</td>\n",
       "      <td>8</td>\n",
       "    </tr>\n",
       "    <tr>\n",
       "      <td>2009-07-01 04:15:00</td>\n",
       "      <td>6</td>\n",
       "    </tr>\n",
       "    <tr>\n",
       "      <td>2009-07-01 04:10:00</td>\n",
       "      <td>2</td>\n",
       "    </tr>\n",
       "    <tr>\n",
       "      <td>2009-07-01 04:05:00</td>\n",
       "      <td>2</td>\n",
       "    </tr>\n",
       "    <tr>\n",
       "      <td>2009-07-01 04:00:00</td>\n",
       "      <td>6</td>\n",
       "    </tr>\n",
       "  </tbody>\n",
       "</table>\n",
       "<p>946847 rows × 1 columns</p>\n",
       "</div>"
      ],
      "text/plain": [
       "                     Price\n",
       "PeriodID                  \n",
       "2018-07-31 23:55:00      4\n",
       "2018-07-31 23:50:00      9\n",
       "2018-07-31 23:45:00      4\n",
       "2018-07-31 23:40:00      2\n",
       "2018-07-31 23:35:00     12\n",
       "...                    ...\n",
       "2009-07-01 04:20:00      8\n",
       "2009-07-01 04:15:00      6\n",
       "2009-07-01 04:10:00      2\n",
       "2009-07-01 04:05:00      2\n",
       "2009-07-01 04:00:00      6\n",
       "\n",
       "[946847 rows x 1 columns]"
      ]
     },
     "execution_count": 195,
     "metadata": {},
     "output_type": "execute_result"
    }
   ],
   "source": [
    "df_price_count = df.groupby(\"PeriodID\").agg({\"Price\" : \"count\"}).sort_values(by=\"PeriodID\", ascending=False)\n",
    "df_price_count"
   ]
  },
  {
   "cell_type": "code",
   "execution_count": 196,
   "metadata": {},
   "outputs": [
    {
     "data": {
      "text/html": [
       "<div>\n",
       "<style scoped>\n",
       "    .dataframe tbody tr th:only-of-type {\n",
       "        vertical-align: middle;\n",
       "    }\n",
       "\n",
       "    .dataframe tbody tr th {\n",
       "        vertical-align: top;\n",
       "    }\n",
       "\n",
       "    .dataframe thead th {\n",
       "        text-align: right;\n",
       "    }\n",
       "</style>\n",
       "<table border=\"1\" class=\"dataframe\">\n",
       "  <thead>\n",
       "    <tr style=\"text-align: right;\">\n",
       "      <th></th>\n",
       "      <th>Price</th>\n",
       "    </tr>\n",
       "    <tr>\n",
       "      <th>PeriodID</th>\n",
       "      <th></th>\n",
       "    </tr>\n",
       "  </thead>\n",
       "  <tbody>\n",
       "    <tr>\n",
       "      <td>2016-10-31 20:30:00</td>\n",
       "      <td>15</td>\n",
       "    </tr>\n",
       "    <tr>\n",
       "      <td>2015-05-01 08:40:00</td>\n",
       "      <td>41</td>\n",
       "    </tr>\n",
       "    <tr>\n",
       "      <td>2015-02-22 23:30:00</td>\n",
       "      <td>8</td>\n",
       "    </tr>\n",
       "  </tbody>\n",
       "</table>\n",
       "</div>"
      ],
      "text/plain": [
       "                     Price\n",
       "PeriodID                  \n",
       "2016-10-31 20:30:00     15\n",
       "2015-05-01 08:40:00     41\n",
       "2015-02-22 23:30:00      8"
      ]
     },
     "execution_count": 196,
     "metadata": {},
     "output_type": "execute_result"
    }
   ],
   "source": [
    "df_price_count[(df_price_count.index == dt.datetime(2015,2,22,23,30,0)) | \n",
    "   (df_price_count.index == dt.datetime(2015,5,1,8,40,0)) | \n",
    "   (df_price_count.index == dt.datetime(2016,10,31,20,30,0))]"
   ]
  },
  {
   "cell_type": "code",
   "execution_count": 197,
   "metadata": {},
   "outputs": [
    {
     "data": {
      "text/html": [
       "<div>\n",
       "<style scoped>\n",
       "    .dataframe tbody tr th:only-of-type {\n",
       "        vertical-align: middle;\n",
       "    }\n",
       "\n",
       "    .dataframe tbody tr th {\n",
       "        vertical-align: top;\n",
       "    }\n",
       "\n",
       "    .dataframe thead th {\n",
       "        text-align: right;\n",
       "    }\n",
       "</style>\n",
       "<table border=\"1\" class=\"dataframe\">\n",
       "  <thead>\n",
       "    <tr style=\"text-align: right;\">\n",
       "      <th></th>\n",
       "      <th>Price</th>\n",
       "    </tr>\n",
       "    <tr>\n",
       "      <th>PeriodID</th>\n",
       "      <th></th>\n",
       "    </tr>\n",
       "  </thead>\n",
       "  <tbody>\n",
       "    <tr>\n",
       "      <td>2009-07-01 04:00:00</td>\n",
       "      <td>1</td>\n",
       "    </tr>\n",
       "    <tr>\n",
       "      <td>2009-07-01 04:05:00</td>\n",
       "      <td>1</td>\n",
       "    </tr>\n",
       "    <tr>\n",
       "      <td>2009-07-01 04:10:00</td>\n",
       "      <td>1</td>\n",
       "    </tr>\n",
       "    <tr>\n",
       "      <td>2009-07-01 04:15:00</td>\n",
       "      <td>1</td>\n",
       "    </tr>\n",
       "    <tr>\n",
       "      <td>2009-07-01 04:20:00</td>\n",
       "      <td>1</td>\n",
       "    </tr>\n",
       "    <tr>\n",
       "      <td>...</td>\n",
       "      <td>...</td>\n",
       "    </tr>\n",
       "    <tr>\n",
       "      <td>2018-07-31 23:35:00</td>\n",
       "      <td>1</td>\n",
       "    </tr>\n",
       "    <tr>\n",
       "      <td>2018-07-31 23:40:00</td>\n",
       "      <td>1</td>\n",
       "    </tr>\n",
       "    <tr>\n",
       "      <td>2018-07-31 23:45:00</td>\n",
       "      <td>1</td>\n",
       "    </tr>\n",
       "    <tr>\n",
       "      <td>2018-07-31 23:50:00</td>\n",
       "      <td>1</td>\n",
       "    </tr>\n",
       "    <tr>\n",
       "      <td>2018-07-31 23:55:00</td>\n",
       "      <td>1</td>\n",
       "    </tr>\n",
       "  </tbody>\n",
       "</table>\n",
       "<p>946847 rows × 1 columns</p>\n",
       "</div>"
      ],
      "text/plain": [
       "                     Price\n",
       "PeriodID                  \n",
       "2009-07-01 04:00:00      1\n",
       "2009-07-01 04:05:00      1\n",
       "2009-07-01 04:10:00      1\n",
       "2009-07-01 04:15:00      1\n",
       "2009-07-01 04:20:00      1\n",
       "...                    ...\n",
       "2018-07-31 23:35:00      1\n",
       "2018-07-31 23:40:00      1\n",
       "2018-07-31 23:45:00      1\n",
       "2018-07-31 23:50:00      1\n",
       "2018-07-31 23:55:00      1\n",
       "\n",
       "[946847 rows x 1 columns]"
      ]
     },
     "execution_count": 197,
     "metadata": {},
     "output_type": "execute_result"
    }
   ],
   "source": [
    "df_grouped = df.groupby(\"PeriodID\").agg({\"Price\" : \"nunique\"})\n",
    "df_grouped"
   ]
  },
  {
   "cell_type": "code",
   "execution_count": 198,
   "metadata": {},
   "outputs": [
    {
     "data": {
      "text/plain": [
       "1    946844\n",
       "2         3\n",
       "Name: Price, dtype: int64"
      ]
     },
     "execution_count": 198,
     "metadata": {},
     "output_type": "execute_result"
    }
   ],
   "source": [
    "df_grouped.Price.value_counts()"
   ]
  },
  {
   "cell_type": "code",
   "execution_count": 199,
   "metadata": {},
   "outputs": [
    {
     "data": {
      "text/html": [
       "<div>\n",
       "<style scoped>\n",
       "    .dataframe tbody tr th:only-of-type {\n",
       "        vertical-align: middle;\n",
       "    }\n",
       "\n",
       "    .dataframe tbody tr th {\n",
       "        vertical-align: top;\n",
       "    }\n",
       "\n",
       "    .dataframe thead th {\n",
       "        text-align: right;\n",
       "    }\n",
       "</style>\n",
       "<table border=\"1\" class=\"dataframe\">\n",
       "  <thead>\n",
       "    <tr style=\"text-align: right;\">\n",
       "      <th></th>\n",
       "      <th>Price</th>\n",
       "    </tr>\n",
       "    <tr>\n",
       "      <th>PeriodID</th>\n",
       "      <th></th>\n",
       "    </tr>\n",
       "  </thead>\n",
       "  <tbody>\n",
       "    <tr>\n",
       "      <td>2015-02-22 23:30:00</td>\n",
       "      <td>2</td>\n",
       "    </tr>\n",
       "    <tr>\n",
       "      <td>2015-05-01 08:40:00</td>\n",
       "      <td>2</td>\n",
       "    </tr>\n",
       "    <tr>\n",
       "      <td>2016-10-31 20:30:00</td>\n",
       "      <td>2</td>\n",
       "    </tr>\n",
       "  </tbody>\n",
       "</table>\n",
       "</div>"
      ],
      "text/plain": [
       "                     Price\n",
       "PeriodID                  \n",
       "2015-02-22 23:30:00      2\n",
       "2015-05-01 08:40:00      2\n",
       "2016-10-31 20:30:00      2"
      ]
     },
     "execution_count": 199,
     "metadata": {},
     "output_type": "execute_result"
    }
   ],
   "source": [
    "df_grouped.loc[df_grouped.Price == 2]"
   ]
  },
  {
   "cell_type": "code",
   "execution_count": 201,
   "metadata": {},
   "outputs": [],
   "source": [
    "df_outlier = df[(df.index == dt.datetime(2015,2,22,23,30,0)) | \n",
    "   (df.index == dt.datetime(2015,5,1,8,40,0)) | \n",
    "   (df.index == dt.datetime(2016,10,31,20,30,0))]"
   ]
  },
  {
   "cell_type": "code",
   "execution_count": 202,
   "metadata": {},
   "outputs": [
    {
     "data": {
      "text/html": [
       "<div>\n",
       "<style scoped>\n",
       "    .dataframe tbody tr th:only-of-type {\n",
       "        vertical-align: middle;\n",
       "    }\n",
       "\n",
       "    .dataframe tbody tr th {\n",
       "        vertical-align: top;\n",
       "    }\n",
       "\n",
       "    .dataframe thead tr th {\n",
       "        text-align: left;\n",
       "    }\n",
       "\n",
       "    .dataframe thead tr:last-of-type th {\n",
       "        text-align: right;\n",
       "    }\n",
       "</style>\n",
       "<table border=\"1\" class=\"dataframe\">\n",
       "  <thead>\n",
       "    <tr>\n",
       "      <th></th>\n",
       "      <th colspan=\"2\" halign=\"left\">Price</th>\n",
       "    </tr>\n",
       "    <tr>\n",
       "      <th></th>\n",
       "      <th>min</th>\n",
       "      <th>max</th>\n",
       "    </tr>\n",
       "    <tr>\n",
       "      <th>PeriodID</th>\n",
       "      <th></th>\n",
       "      <th></th>\n",
       "    </tr>\n",
       "  </thead>\n",
       "  <tbody>\n",
       "    <tr>\n",
       "      <td>2015-02-22 23:30:00</td>\n",
       "      <td>97591.06624</td>\n",
       "      <td>368100.07478</td>\n",
       "    </tr>\n",
       "    <tr>\n",
       "      <td>2015-05-01 08:40:00</td>\n",
       "      <td>70.29670</td>\n",
       "      <td>72.09740</td>\n",
       "    </tr>\n",
       "    <tr>\n",
       "      <td>2016-10-31 20:30:00</td>\n",
       "      <td>95.98007</td>\n",
       "      <td>509229.65442</td>\n",
       "    </tr>\n",
       "  </tbody>\n",
       "</table>\n",
       "</div>"
      ],
      "text/plain": [
       "                           Price              \n",
       "                             min           max\n",
       "PeriodID                                      \n",
       "2015-02-22 23:30:00  97591.06624  368100.07478\n",
       "2015-05-01 08:40:00     70.29670      72.09740\n",
       "2016-10-31 20:30:00     95.98007  509229.65442"
      ]
     },
     "execution_count": 202,
     "metadata": {},
     "output_type": "execute_result"
    }
   ],
   "source": [
    "df_outlier.groupby('PeriodID').agg({'Price' : ['min', 'max']})"
   ]
  },
  {
   "cell_type": "code",
   "execution_count": 139,
   "metadata": {},
   "outputs": [],
   "source": [
    "df_dispatch = pd.read_csv('/home/bastian/nem-data/clean/dispatch_price.csv', index_col = 0, parse_dates=True)"
   ]
  },
  {
   "cell_type": "code",
   "execution_count": 140,
   "metadata": {},
   "outputs": [
    {
     "name": "stdout",
     "output_type": "stream",
     "text": [
      "(955536, 1)\n"
     ]
    },
    {
     "data": {
      "text/html": [
       "<div>\n",
       "<style scoped>\n",
       "    .dataframe tbody tr th:only-of-type {\n",
       "        vertical-align: middle;\n",
       "    }\n",
       "\n",
       "    .dataframe tbody tr th {\n",
       "        vertical-align: top;\n",
       "    }\n",
       "\n",
       "    .dataframe thead th {\n",
       "        text-align: right;\n",
       "    }\n",
       "</style>\n",
       "<table border=\"1\" class=\"dataframe\">\n",
       "  <thead>\n",
       "    <tr style=\"text-align: right;\">\n",
       "      <th></th>\n",
       "      <th>RRP SA1</th>\n",
       "    </tr>\n",
       "    <tr>\n",
       "      <th>tempus_interval_time</th>\n",
       "      <th></th>\n",
       "    </tr>\n",
       "  </thead>\n",
       "  <tbody>\n",
       "    <tr>\n",
       "      <td>2018-07-31 23:55:00</td>\n",
       "      <td>70.70204</td>\n",
       "    </tr>\n",
       "    <tr>\n",
       "      <td>2018-07-31 23:50:00</td>\n",
       "      <td>69.24109</td>\n",
       "    </tr>\n",
       "    <tr>\n",
       "      <td>2018-07-31 23:45:00</td>\n",
       "      <td>69.94850</td>\n",
       "    </tr>\n",
       "    <tr>\n",
       "      <td>2018-07-31 23:40:00</td>\n",
       "      <td>74.04497</td>\n",
       "    </tr>\n",
       "    <tr>\n",
       "      <td>2018-07-31 23:35:00</td>\n",
       "      <td>76.44245</td>\n",
       "    </tr>\n",
       "  </tbody>\n",
       "</table>\n",
       "</div>"
      ],
      "text/plain": [
       "                       RRP SA1\n",
       "tempus_interval_time          \n",
       "2018-07-31 23:55:00   70.70204\n",
       "2018-07-31 23:50:00   69.24109\n",
       "2018-07-31 23:45:00   69.94850\n",
       "2018-07-31 23:40:00   74.04497\n",
       "2018-07-31 23:35:00   76.44245"
      ]
     },
     "execution_count": 140,
     "metadata": {},
     "output_type": "execute_result"
    }
   ],
   "source": [
    "df_dispatch = df_dispatch.loc[(df_dispatch.index <= df.index.max()) &\n",
    "                              (df_dispatch.index >= df.index.min()), :][['RRP SA1']]\n",
    "df_dispatch.sort_index(ascending=False, inplace=True)\n",
    "print(df_dispatch.shape)\n",
    "df_dispatch.head()"
   ]
  },
  {
   "cell_type": "code",
   "execution_count": 101,
   "metadata": {},
   "outputs": [
    {
     "name": "stdout",
     "output_type": "stream",
     "text": [
      "<class 'pandas.core.frame.DataFrame'>\n",
      "DatetimeIndex: 955534 entries, 2018-07-31 23:50:00 to 2009-07-01 04:05:00\n",
      "Data columns (total 1 columns):\n",
      "RRP SA1    955534 non-null float64\n",
      "dtypes: float64(1)\n",
      "memory usage: 14.6 MB\n"
     ]
    }
   ],
   "source": [
    "df_dispatch.info()"
   ]
  },
  {
   "cell_type": "code",
   "execution_count": 145,
   "metadata": {},
   "outputs": [
    {
     "name": "stdout",
     "output_type": "stream",
     "text": [
      "2018-07-31 23:55:00\n",
      "2009-07-01 04:00:00\n",
      "(946847, 1)\n"
     ]
    }
   ],
   "source": [
    "print(df.index.max())\n",
    "print(df.index.min())\n",
    "print(df_grouped.shape)"
   ]
  },
  {
   "cell_type": "code",
   "execution_count": 143,
   "metadata": {},
   "outputs": [
    {
     "name": "stdout",
     "output_type": "stream",
     "text": [
      "2018-07-31 23:55:00\n",
      "2009-07-01 04:00:00\n",
      "(955536, 1)\n"
     ]
    }
   ],
   "source": [
    "print(df_dispatch.index.max())\n",
    "print(df_dispatch.index.min())\n",
    "print(df_dispatch.shape)"
   ]
  },
  {
   "cell_type": "code",
   "execution_count": 207,
   "metadata": {},
   "outputs": [
    {
     "data": {
      "text/html": [
       "<div>\n",
       "<style scoped>\n",
       "    .dataframe tbody tr th:only-of-type {\n",
       "        vertical-align: middle;\n",
       "    }\n",
       "\n",
       "    .dataframe tbody tr th {\n",
       "        vertical-align: top;\n",
       "    }\n",
       "\n",
       "    .dataframe thead th {\n",
       "        text-align: right;\n",
       "    }\n",
       "</style>\n",
       "<table border=\"1\" class=\"dataframe\">\n",
       "  <thead>\n",
       "    <tr style=\"text-align: right;\">\n",
       "      <th></th>\n",
       "      <th>Price</th>\n",
       "    </tr>\n",
       "    <tr>\n",
       "      <th>PeriodID</th>\n",
       "      <th></th>\n",
       "    </tr>\n",
       "  </thead>\n",
       "  <tbody>\n",
       "    <tr>\n",
       "      <td>2018-07-31 23:55:00</td>\n",
       "      <td>70.70204</td>\n",
       "    </tr>\n",
       "    <tr>\n",
       "      <td>2018-07-31 23:50:00</td>\n",
       "      <td>69.24109</td>\n",
       "    </tr>\n",
       "    <tr>\n",
       "      <td>2018-07-31 23:45:00</td>\n",
       "      <td>69.94850</td>\n",
       "    </tr>\n",
       "    <tr>\n",
       "      <td>2018-07-31 23:40:00</td>\n",
       "      <td>74.04497</td>\n",
       "    </tr>\n",
       "    <tr>\n",
       "      <td>2018-07-31 23:35:00</td>\n",
       "      <td>76.44245</td>\n",
       "    </tr>\n",
       "    <tr>\n",
       "      <td>...</td>\n",
       "      <td>...</td>\n",
       "    </tr>\n",
       "    <tr>\n",
       "      <td>2009-07-01 04:20:00</td>\n",
       "      <td>1.75480</td>\n",
       "    </tr>\n",
       "    <tr>\n",
       "      <td>2009-07-01 04:15:00</td>\n",
       "      <td>1.44014</td>\n",
       "    </tr>\n",
       "    <tr>\n",
       "      <td>2009-07-01 04:10:00</td>\n",
       "      <td>-0.00006</td>\n",
       "    </tr>\n",
       "    <tr>\n",
       "      <td>2009-07-01 04:05:00</td>\n",
       "      <td>-0.00006</td>\n",
       "    </tr>\n",
       "    <tr>\n",
       "      <td>2009-07-01 04:00:00</td>\n",
       "      <td>1.35918</td>\n",
       "    </tr>\n",
       "  </tbody>\n",
       "</table>\n",
       "<p>946847 rows × 1 columns</p>\n",
       "</div>"
      ],
      "text/plain": [
       "                        Price\n",
       "PeriodID                     \n",
       "2018-07-31 23:55:00  70.70204\n",
       "2018-07-31 23:50:00  69.24109\n",
       "2018-07-31 23:45:00  69.94850\n",
       "2018-07-31 23:40:00  74.04497\n",
       "2018-07-31 23:35:00  76.44245\n",
       "...                       ...\n",
       "2009-07-01 04:20:00   1.75480\n",
       "2009-07-01 04:15:00   1.44014\n",
       "2009-07-01 04:10:00  -0.00006\n",
       "2009-07-01 04:05:00  -0.00006\n",
       "2009-07-01 04:00:00   1.35918\n",
       "\n",
       "[946847 rows x 1 columns]"
      ]
     },
     "execution_count": 207,
     "metadata": {},
     "output_type": "execute_result"
    }
   ],
   "source": [
    "df_group_price = df.groupby(\"PeriodID\").agg({\"Price\":\"mean\"}).sort_values(by=\"PeriodID\",ascending=False)\n",
    "df_group_price"
   ]
  },
  {
   "cell_type": "code",
   "execution_count": 208,
   "metadata": {},
   "outputs": [],
   "source": [
    "df_join = df_group_price.join(df_dispatch, how='inner')"
   ]
  },
  {
   "cell_type": "code",
   "execution_count": 209,
   "metadata": {},
   "outputs": [
    {
     "data": {
      "text/plain": [
       "(946847, 2)"
      ]
     },
     "execution_count": 209,
     "metadata": {},
     "output_type": "execute_result"
    }
   ],
   "source": [
    "df_join.shape"
   ]
  },
  {
   "cell_type": "code",
   "execution_count": 210,
   "metadata": {},
   "outputs": [
    {
     "data": {
      "text/html": [
       "<div>\n",
       "<style scoped>\n",
       "    .dataframe tbody tr th:only-of-type {\n",
       "        vertical-align: middle;\n",
       "    }\n",
       "\n",
       "    .dataframe tbody tr th {\n",
       "        vertical-align: top;\n",
       "    }\n",
       "\n",
       "    .dataframe thead th {\n",
       "        text-align: right;\n",
       "    }\n",
       "</style>\n",
       "<table border=\"1\" class=\"dataframe\">\n",
       "  <thead>\n",
       "    <tr style=\"text-align: right;\">\n",
       "      <th></th>\n",
       "      <th>Price</th>\n",
       "      <th>RRP SA1</th>\n",
       "    </tr>\n",
       "  </thead>\n",
       "  <tbody>\n",
       "    <tr>\n",
       "      <td>2018-07-31 23:55:00</td>\n",
       "      <td>70.70204</td>\n",
       "      <td>70.70204</td>\n",
       "    </tr>\n",
       "    <tr>\n",
       "      <td>2018-07-31 23:50:00</td>\n",
       "      <td>69.24109</td>\n",
       "      <td>69.24109</td>\n",
       "    </tr>\n",
       "    <tr>\n",
       "      <td>2018-07-31 23:45:00</td>\n",
       "      <td>69.94850</td>\n",
       "      <td>69.94850</td>\n",
       "    </tr>\n",
       "    <tr>\n",
       "      <td>2018-07-31 23:40:00</td>\n",
       "      <td>74.04497</td>\n",
       "      <td>74.04497</td>\n",
       "    </tr>\n",
       "    <tr>\n",
       "      <td>2018-07-31 23:35:00</td>\n",
       "      <td>76.44245</td>\n",
       "      <td>76.44245</td>\n",
       "    </tr>\n",
       "  </tbody>\n",
       "</table>\n",
       "</div>"
      ],
      "text/plain": [
       "                        Price   RRP SA1\n",
       "2018-07-31 23:55:00  70.70204  70.70204\n",
       "2018-07-31 23:50:00  69.24109  69.24109\n",
       "2018-07-31 23:45:00  69.94850  69.94850\n",
       "2018-07-31 23:40:00  74.04497  74.04497\n",
       "2018-07-31 23:35:00  76.44245  76.44245"
      ]
     },
     "execution_count": 210,
     "metadata": {},
     "output_type": "execute_result"
    }
   ],
   "source": [
    "df_join.head()"
   ]
  },
  {
   "cell_type": "code",
   "execution_count": 215,
   "metadata": {},
   "outputs": [
    {
     "data": {
      "text/plain": [
       "Price      False\n",
       "RRP SA1    False\n",
       "dtype: bool"
      ]
     },
     "execution_count": 215,
     "metadata": {},
     "output_type": "execute_result"
    }
   ],
   "source": [
    "df_join.isna().any()"
   ]
  },
  {
   "cell_type": "code",
   "execution_count": 234,
   "metadata": {},
   "outputs": [],
   "source": [
    "df_join[\"delta\"] = (df_join[\"Price\"] - df_join[\"RRP SA1\"])"
   ]
  },
  {
   "cell_type": "code",
   "execution_count": 235,
   "metadata": {},
   "outputs": [
    {
     "data": {
      "text/html": [
       "<div>\n",
       "<style scoped>\n",
       "    .dataframe tbody tr th:only-of-type {\n",
       "        vertical-align: middle;\n",
       "    }\n",
       "\n",
       "    .dataframe tbody tr th {\n",
       "        vertical-align: top;\n",
       "    }\n",
       "\n",
       "    .dataframe thead th {\n",
       "        text-align: right;\n",
       "    }\n",
       "</style>\n",
       "<table border=\"1\" class=\"dataframe\">\n",
       "  <thead>\n",
       "    <tr style=\"text-align: right;\">\n",
       "      <th></th>\n",
       "      <th>Price</th>\n",
       "      <th>RRP SA1</th>\n",
       "      <th>delta</th>\n",
       "    </tr>\n",
       "  </thead>\n",
       "  <tbody>\n",
       "    <tr>\n",
       "      <td>2018-07-31 23:55:00</td>\n",
       "      <td>70.70204</td>\n",
       "      <td>70.70204</td>\n",
       "      <td>0.000000e+00</td>\n",
       "    </tr>\n",
       "    <tr>\n",
       "      <td>2018-07-31 23:50:00</td>\n",
       "      <td>69.24109</td>\n",
       "      <td>69.24109</td>\n",
       "      <td>0.000000e+00</td>\n",
       "    </tr>\n",
       "    <tr>\n",
       "      <td>2018-07-31 23:45:00</td>\n",
       "      <td>69.94850</td>\n",
       "      <td>69.94850</td>\n",
       "      <td>0.000000e+00</td>\n",
       "    </tr>\n",
       "    <tr>\n",
       "      <td>2018-07-31 23:40:00</td>\n",
       "      <td>74.04497</td>\n",
       "      <td>74.04497</td>\n",
       "      <td>2.842171e-14</td>\n",
       "    </tr>\n",
       "    <tr>\n",
       "      <td>2018-07-31 23:35:00</td>\n",
       "      <td>76.44245</td>\n",
       "      <td>76.44245</td>\n",
       "      <td>0.000000e+00</td>\n",
       "    </tr>\n",
       "  </tbody>\n",
       "</table>\n",
       "</div>"
      ],
      "text/plain": [
       "                        Price   RRP SA1         delta\n",
       "2018-07-31 23:55:00  70.70204  70.70204  0.000000e+00\n",
       "2018-07-31 23:50:00  69.24109  69.24109  0.000000e+00\n",
       "2018-07-31 23:45:00  69.94850  69.94850  0.000000e+00\n",
       "2018-07-31 23:40:00  74.04497  74.04497  2.842171e-14\n",
       "2018-07-31 23:35:00  76.44245  76.44245  0.000000e+00"
      ]
     },
     "execution_count": 235,
     "metadata": {},
     "output_type": "execute_result"
    }
   ],
   "source": [
    "df_join.head()"
   ]
  },
  {
   "cell_type": "code",
   "execution_count": 236,
   "metadata": {},
   "outputs": [
    {
     "data": {
      "text/plain": [
       "0.0015145002307658999"
      ]
     },
     "execution_count": 236,
     "metadata": {},
     "output_type": "execute_result"
    }
   ],
   "source": [
    "sum(((df_join[\"Price\"] - df_join[\"RRP SA1\"])/df_join[\"RRP SA1\"]) > 0.00001)/df_join.shape[0]"
   ]
  },
  {
   "cell_type": "code",
   "execution_count": 245,
   "metadata": {},
   "outputs": [
    {
     "data": {
      "text/html": [
       "<div>\n",
       "<style scoped>\n",
       "    .dataframe tbody tr th:only-of-type {\n",
       "        vertical-align: middle;\n",
       "    }\n",
       "\n",
       "    .dataframe tbody tr th {\n",
       "        vertical-align: top;\n",
       "    }\n",
       "\n",
       "    .dataframe thead th {\n",
       "        text-align: right;\n",
       "    }\n",
       "</style>\n",
       "<table border=\"1\" class=\"dataframe\">\n",
       "  <thead>\n",
       "    <tr style=\"text-align: right;\">\n",
       "      <th></th>\n",
       "      <th>Price</th>\n",
       "      <th>RRP SA1</th>\n",
       "      <th>delta</th>\n",
       "    </tr>\n",
       "  </thead>\n",
       "  <tbody>\n",
       "    <tr>\n",
       "      <td>2018-04-27 18:50:00</td>\n",
       "      <td>426000.00401</td>\n",
       "      <td>14200.00</td>\n",
       "      <td>411800.00401</td>\n",
       "    </tr>\n",
       "    <tr>\n",
       "      <td>2018-04-27 18:45:00</td>\n",
       "      <td>426000.00403</td>\n",
       "      <td>14200.00</td>\n",
       "      <td>411800.00403</td>\n",
       "    </tr>\n",
       "    <tr>\n",
       "      <td>2018-04-26 11:30:00</td>\n",
       "      <td>426000.00385</td>\n",
       "      <td>14200.00</td>\n",
       "      <td>411800.00385</td>\n",
       "    </tr>\n",
       "    <tr>\n",
       "      <td>2018-04-26 11:25:00</td>\n",
       "      <td>426000.00411</td>\n",
       "      <td>14200.00</td>\n",
       "      <td>411800.00411</td>\n",
       "    </tr>\n",
       "    <tr>\n",
       "      <td>2018-02-08 01:00:00</td>\n",
       "      <td>14673.29560</td>\n",
       "      <td>590.01</td>\n",
       "      <td>14083.28560</td>\n",
       "    </tr>\n",
       "    <tr>\n",
       "      <td>...</td>\n",
       "      <td>...</td>\n",
       "      <td>...</td>\n",
       "      <td>...</td>\n",
       "    </tr>\n",
       "    <tr>\n",
       "      <td>2010-02-09 16:20:00</td>\n",
       "      <td>14400.99847</td>\n",
       "      <td>10000.00</td>\n",
       "      <td>4400.99847</td>\n",
       "    </tr>\n",
       "    <tr>\n",
       "      <td>2010-02-09 16:15:00</td>\n",
       "      <td>67111.08534</td>\n",
       "      <td>10000.00</td>\n",
       "      <td>57111.08534</td>\n",
       "    </tr>\n",
       "    <tr>\n",
       "      <td>2010-02-09 16:10:00</td>\n",
       "      <td>14555.63082</td>\n",
       "      <td>10000.00</td>\n",
       "      <td>4555.63082</td>\n",
       "    </tr>\n",
       "    <tr>\n",
       "      <td>2009-09-11 19:25:00</td>\n",
       "      <td>22836.25512</td>\n",
       "      <td>10000.00</td>\n",
       "      <td>12836.25512</td>\n",
       "    </tr>\n",
       "    <tr>\n",
       "      <td>2009-09-11 19:20:00</td>\n",
       "      <td>89871.44194</td>\n",
       "      <td>10000.00</td>\n",
       "      <td>79871.44194</td>\n",
       "    </tr>\n",
       "  </tbody>\n",
       "</table>\n",
       "<p>1434 rows × 3 columns</p>\n",
       "</div>"
      ],
      "text/plain": [
       "                            Price   RRP SA1         delta\n",
       "2018-04-27 18:50:00  426000.00401  14200.00  411800.00401\n",
       "2018-04-27 18:45:00  426000.00403  14200.00  411800.00403\n",
       "2018-04-26 11:30:00  426000.00385  14200.00  411800.00385\n",
       "2018-04-26 11:25:00  426000.00411  14200.00  411800.00411\n",
       "2018-02-08 01:00:00   14673.29560    590.01   14083.28560\n",
       "...                           ...       ...           ...\n",
       "2010-02-09 16:20:00   14400.99847  10000.00    4400.99847\n",
       "2010-02-09 16:15:00   67111.08534  10000.00   57111.08534\n",
       "2010-02-09 16:10:00   14555.63082  10000.00    4555.63082\n",
       "2009-09-11 19:25:00   22836.25512  10000.00   12836.25512\n",
       "2009-09-11 19:20:00   89871.44194  10000.00   79871.44194\n",
       "\n",
       "[1434 rows x 3 columns]"
      ]
     },
     "execution_count": 245,
     "metadata": {},
     "output_type": "execute_result"
    }
   ],
   "source": [
    "delta = df_join[((df_join[\"Price\"] - df_join[\"RRP SA1\"])/df_join[\"RRP SA1\"]) > 0.00001]\n",
    "delta"
   ]
  },
  {
   "cell_type": "code",
   "execution_count": 238,
   "metadata": {},
   "outputs": [
    {
     "name": "stdout",
     "output_type": "stream",
     "text": [
      "-25801.01056999999\n",
      "2099937.02\n"
     ]
    }
   ],
   "source": [
    "print(df_join.delta.min())\n",
    "print(df_join.delta.max())"
   ]
  },
  {
   "cell_type": "code",
   "execution_count": 261,
   "metadata": {},
   "outputs": [
    {
     "data": {
      "text/html": [
       "<div>\n",
       "<style scoped>\n",
       "    .dataframe tbody tr th:only-of-type {\n",
       "        vertical-align: middle;\n",
       "    }\n",
       "\n",
       "    .dataframe tbody tr th {\n",
       "        vertical-align: top;\n",
       "    }\n",
       "\n",
       "    .dataframe thead th {\n",
       "        text-align: right;\n",
       "    }\n",
       "</style>\n",
       "<table border=\"1\" class=\"dataframe\">\n",
       "  <thead>\n",
       "    <tr style=\"text-align: right;\">\n",
       "      <th></th>\n",
       "      <th>Price</th>\n",
       "      <th>RRP SA1</th>\n",
       "      <th>delta</th>\n",
       "    </tr>\n",
       "  </thead>\n",
       "  <tbody>\n",
       "    <tr>\n",
       "      <td>2018-07-31 23:55:00</td>\n",
       "      <td>70.70204</td>\n",
       "      <td>70.70204</td>\n",
       "      <td>0.000000e+00</td>\n",
       "    </tr>\n",
       "    <tr>\n",
       "      <td>2018-07-31 23:50:00</td>\n",
       "      <td>69.24109</td>\n",
       "      <td>69.24109</td>\n",
       "      <td>0.000000e+00</td>\n",
       "    </tr>\n",
       "    <tr>\n",
       "      <td>2018-07-31 23:45:00</td>\n",
       "      <td>69.94850</td>\n",
       "      <td>69.94850</td>\n",
       "      <td>0.000000e+00</td>\n",
       "    </tr>\n",
       "    <tr>\n",
       "      <td>2018-07-31 23:40:00</td>\n",
       "      <td>74.04497</td>\n",
       "      <td>74.04497</td>\n",
       "      <td>2.842171e-14</td>\n",
       "    </tr>\n",
       "    <tr>\n",
       "      <td>2018-07-31 23:35:00</td>\n",
       "      <td>76.44245</td>\n",
       "      <td>76.44245</td>\n",
       "      <td>0.000000e+00</td>\n",
       "    </tr>\n",
       "  </tbody>\n",
       "</table>\n",
       "</div>"
      ],
      "text/plain": [
       "                        Price   RRP SA1         delta\n",
       "2018-07-31 23:55:00  70.70204  70.70204  0.000000e+00\n",
       "2018-07-31 23:50:00  69.24109  69.24109  0.000000e+00\n",
       "2018-07-31 23:45:00  69.94850  69.94850  0.000000e+00\n",
       "2018-07-31 23:40:00  74.04497  74.04497  2.842171e-14\n",
       "2018-07-31 23:35:00  76.44245  76.44245  0.000000e+00"
      ]
     },
     "execution_count": 261,
     "metadata": {},
     "output_type": "execute_result"
    }
   ],
   "source": [
    "df_join.head()"
   ]
  },
  {
   "cell_type": "code",
   "execution_count": 269,
   "metadata": {},
   "outputs": [],
   "source": [
    "df_join_delta = df_join.drop(delta.index) #cleeeaaan"
   ]
  },
  {
   "cell_type": "code",
   "execution_count": 270,
   "metadata": {},
   "outputs": [
    {
     "data": {
      "text/plain": [
       "0"
      ]
     },
     "execution_count": 270,
     "metadata": {},
     "output_type": "execute_result"
    }
   ],
   "source": [
    "sum(((df_join_delta[\"Price\"] - df_join_delta[\"RRP SA1\"])/df_join_delta[\"RRP SA1\"]) > 0.00001)"
   ]
  },
  {
   "cell_type": "code",
   "execution_count": 259,
   "metadata": {},
   "outputs": [
    {
     "data": {
      "text/plain": [
       "(945413, 3)"
      ]
     },
     "execution_count": 259,
     "metadata": {},
     "output_type": "execute_result"
    }
   ],
   "source": [
    "df_join_delta.shape"
   ]
  },
  {
   "cell_type": "code",
   "execution_count": 260,
   "metadata": {},
   "outputs": [
    {
     "data": {
      "text/html": [
       "<div>\n",
       "<style scoped>\n",
       "    .dataframe tbody tr th:only-of-type {\n",
       "        vertical-align: middle;\n",
       "    }\n",
       "\n",
       "    .dataframe tbody tr th {\n",
       "        vertical-align: top;\n",
       "    }\n",
       "\n",
       "    .dataframe thead th {\n",
       "        text-align: right;\n",
       "    }\n",
       "</style>\n",
       "<table border=\"1\" class=\"dataframe\">\n",
       "  <thead>\n",
       "    <tr style=\"text-align: right;\">\n",
       "      <th></th>\n",
       "      <th>Price</th>\n",
       "      <th>RRP SA1</th>\n",
       "      <th>delta</th>\n",
       "    </tr>\n",
       "  </thead>\n",
       "  <tbody>\n",
       "    <tr>\n",
       "      <td>2018-07-31 23:55:00</td>\n",
       "      <td>70.70204</td>\n",
       "      <td>70.70204</td>\n",
       "      <td>0.000000e+00</td>\n",
       "    </tr>\n",
       "    <tr>\n",
       "      <td>2018-07-31 23:50:00</td>\n",
       "      <td>69.24109</td>\n",
       "      <td>69.24109</td>\n",
       "      <td>0.000000e+00</td>\n",
       "    </tr>\n",
       "    <tr>\n",
       "      <td>2018-07-31 23:45:00</td>\n",
       "      <td>69.94850</td>\n",
       "      <td>69.94850</td>\n",
       "      <td>0.000000e+00</td>\n",
       "    </tr>\n",
       "    <tr>\n",
       "      <td>2018-07-31 23:40:00</td>\n",
       "      <td>74.04497</td>\n",
       "      <td>74.04497</td>\n",
       "      <td>2.842171e-14</td>\n",
       "    </tr>\n",
       "    <tr>\n",
       "      <td>2018-07-31 23:35:00</td>\n",
       "      <td>76.44245</td>\n",
       "      <td>76.44245</td>\n",
       "      <td>0.000000e+00</td>\n",
       "    </tr>\n",
       "  </tbody>\n",
       "</table>\n",
       "</div>"
      ],
      "text/plain": [
       "                        Price   RRP SA1         delta\n",
       "2018-07-31 23:55:00  70.70204  70.70204  0.000000e+00\n",
       "2018-07-31 23:50:00  69.24109  69.24109  0.000000e+00\n",
       "2018-07-31 23:45:00  69.94850  69.94850  0.000000e+00\n",
       "2018-07-31 23:40:00  74.04497  74.04497  2.842171e-14\n",
       "2018-07-31 23:35:00  76.44245  76.44245  0.000000e+00"
      ]
     },
     "execution_count": 260,
     "metadata": {},
     "output_type": "execute_result"
    }
   ],
   "source": [
    "df_join_delta.head()"
   ]
  },
  {
   "cell_type": "code",
   "execution_count": null,
   "metadata": {},
   "outputs": [],
   "source": []
  },
  {
   "cell_type": "code",
   "execution_count": 243,
   "metadata": {},
   "outputs": [],
   "source": [
    "df_mismatch = df_dispatch.drop(df_join.index)"
   ]
  },
  {
   "cell_type": "code",
   "execution_count": 244,
   "metadata": {},
   "outputs": [
    {
     "data": {
      "text/html": [
       "<div>\n",
       "<style scoped>\n",
       "    .dataframe tbody tr th:only-of-type {\n",
       "        vertical-align: middle;\n",
       "    }\n",
       "\n",
       "    .dataframe tbody tr th {\n",
       "        vertical-align: top;\n",
       "    }\n",
       "\n",
       "    .dataframe thead th {\n",
       "        text-align: right;\n",
       "    }\n",
       "</style>\n",
       "<table border=\"1\" class=\"dataframe\">\n",
       "  <thead>\n",
       "    <tr style=\"text-align: right;\">\n",
       "      <th></th>\n",
       "      <th>RRP SA1</th>\n",
       "    </tr>\n",
       "    <tr>\n",
       "      <th>tempus_interval_time</th>\n",
       "      <th></th>\n",
       "    </tr>\n",
       "  </thead>\n",
       "  <tbody>\n",
       "    <tr>\n",
       "      <td>2018-07-01 03:55:00</td>\n",
       "      <td>78.74000</td>\n",
       "    </tr>\n",
       "    <tr>\n",
       "      <td>2018-07-01 03:50:00</td>\n",
       "      <td>78.74000</td>\n",
       "    </tr>\n",
       "    <tr>\n",
       "      <td>2018-07-01 03:45:00</td>\n",
       "      <td>78.74000</td>\n",
       "    </tr>\n",
       "    <tr>\n",
       "      <td>2018-07-01 03:40:00</td>\n",
       "      <td>78.74000</td>\n",
       "    </tr>\n",
       "    <tr>\n",
       "      <td>2018-07-01 03:35:00</td>\n",
       "      <td>86.83353</td>\n",
       "    </tr>\n",
       "  </tbody>\n",
       "</table>\n",
       "</div>"
      ],
      "text/plain": [
       "                       RRP SA1\n",
       "tempus_interval_time          \n",
       "2018-07-01 03:55:00   78.74000\n",
       "2018-07-01 03:50:00   78.74000\n",
       "2018-07-01 03:45:00   78.74000\n",
       "2018-07-01 03:40:00   78.74000\n",
       "2018-07-01 03:35:00   86.83353"
      ]
     },
     "execution_count": 244,
     "metadata": {},
     "output_type": "execute_result"
    }
   ],
   "source": [
    "df_mismatch.head()"
   ]
  },
  {
   "cell_type": "code",
   "execution_count": 168,
   "metadata": {},
   "outputs": [
    {
     "data": {
      "text/html": [
       "<div>\n",
       "<style scoped>\n",
       "    .dataframe tbody tr th:only-of-type {\n",
       "        vertical-align: middle;\n",
       "    }\n",
       "\n",
       "    .dataframe tbody tr th {\n",
       "        vertical-align: top;\n",
       "    }\n",
       "\n",
       "    .dataframe thead th {\n",
       "        text-align: right;\n",
       "    }\n",
       "</style>\n",
       "<table border=\"1\" class=\"dataframe\">\n",
       "  <thead>\n",
       "    <tr style=\"text-align: right;\">\n",
       "      <th></th>\n",
       "      <th></th>\n",
       "      <th>RRP SA1</th>\n",
       "    </tr>\n",
       "    <tr>\n",
       "      <th>tempus_interval_time</th>\n",
       "      <th>tempus_interval_time</th>\n",
       "      <th></th>\n",
       "    </tr>\n",
       "  </thead>\n",
       "  <tbody>\n",
       "    <tr>\n",
       "      <td rowspan=\"2\" valign=\"top\">2009</td>\n",
       "      <td>8</td>\n",
       "      <td>0.000000</td>\n",
       "    </tr>\n",
       "    <tr>\n",
       "      <td>9</td>\n",
       "      <td>0.000000</td>\n",
       "    </tr>\n",
       "    <tr>\n",
       "      <td rowspan=\"4\" valign=\"top\">2010</td>\n",
       "      <td>1</td>\n",
       "      <td>0.000000</td>\n",
       "    </tr>\n",
       "    <tr>\n",
       "      <td>3</td>\n",
       "      <td>0.000000</td>\n",
       "    </tr>\n",
       "    <tr>\n",
       "      <td>9</td>\n",
       "      <td>0.000000</td>\n",
       "    </tr>\n",
       "    <tr>\n",
       "      <td>12</td>\n",
       "      <td>12.251030</td>\n",
       "    </tr>\n",
       "    <tr>\n",
       "      <td rowspan=\"2\" valign=\"top\">2013</td>\n",
       "      <td>8</td>\n",
       "      <td>80.800090</td>\n",
       "    </tr>\n",
       "    <tr>\n",
       "      <td>11</td>\n",
       "      <td>0.000000</td>\n",
       "    </tr>\n",
       "    <tr>\n",
       "      <td rowspan=\"6\" valign=\"top\">2016</td>\n",
       "      <td>1</td>\n",
       "      <td>33.996890</td>\n",
       "    </tr>\n",
       "    <tr>\n",
       "      <td>3</td>\n",
       "      <td>51.317500</td>\n",
       "    </tr>\n",
       "    <tr>\n",
       "      <td>8</td>\n",
       "      <td>0.000000</td>\n",
       "    </tr>\n",
       "    <tr>\n",
       "      <td>9</td>\n",
       "      <td>0.000000</td>\n",
       "    </tr>\n",
       "    <tr>\n",
       "      <td>10</td>\n",
       "      <td>0.000000</td>\n",
       "    </tr>\n",
       "    <tr>\n",
       "      <td>11</td>\n",
       "      <td>0.000000</td>\n",
       "    </tr>\n",
       "    <tr>\n",
       "      <td>2017</td>\n",
       "      <td>10</td>\n",
       "      <td>0.000000</td>\n",
       "    </tr>\n",
       "    <tr>\n",
       "      <td rowspan=\"4\" valign=\"top\">2018</td>\n",
       "      <td>3</td>\n",
       "      <td>62.690000</td>\n",
       "    </tr>\n",
       "    <tr>\n",
       "      <td>4</td>\n",
       "      <td>105.000020</td>\n",
       "    </tr>\n",
       "    <tr>\n",
       "      <td>6</td>\n",
       "      <td>106.134771</td>\n",
       "    </tr>\n",
       "    <tr>\n",
       "      <td>7</td>\n",
       "      <td>118.279304</td>\n",
       "    </tr>\n",
       "  </tbody>\n",
       "</table>\n",
       "</div>"
      ],
      "text/plain": [
       "                                              RRP SA1\n",
       "tempus_interval_time tempus_interval_time            \n",
       "2009                 8                       0.000000\n",
       "                     9                       0.000000\n",
       "2010                 1                       0.000000\n",
       "                     3                       0.000000\n",
       "                     9                       0.000000\n",
       "                     12                     12.251030\n",
       "2013                 8                      80.800090\n",
       "                     11                      0.000000\n",
       "2016                 1                      33.996890\n",
       "                     3                      51.317500\n",
       "                     8                       0.000000\n",
       "                     9                       0.000000\n",
       "                     10                      0.000000\n",
       "                     11                      0.000000\n",
       "2017                 10                      0.000000\n",
       "2018                 3                      62.690000\n",
       "                     4                     105.000020\n",
       "                     6                     106.134771\n",
       "                     7                     118.279304"
      ]
     },
     "execution_count": 168,
     "metadata": {},
     "output_type": "execute_result"
    }
   ],
   "source": [
    "df_mismatch.groupby([df_mismatch.index.year, df_mismatch.index.month]).mean()"
   ]
  },
  {
   "cell_type": "code",
   "execution_count": 163,
   "metadata": {},
   "outputs": [
    {
     "data": {
      "text/plain": [
       "(8689, 1)"
      ]
     },
     "execution_count": 163,
     "metadata": {},
     "output_type": "execute_result"
    }
   ],
   "source": [
    "df_mismatch.shape"
   ]
  },
  {
   "cell_type": "code",
   "execution_count": 165,
   "metadata": {},
   "outputs": [
    {
     "data": {
      "text/plain": [
       "8689"
      ]
     },
     "execution_count": 165,
     "metadata": {},
     "output_type": "execute_result"
    }
   ],
   "source": [
    "df_dispatch.shape[0] - df_grouped.shape[0]"
   ]
  },
  {
   "cell_type": "code",
   "execution_count": null,
   "metadata": {},
   "outputs": [],
   "source": []
  },
  {
   "cell_type": "code",
   "execution_count": null,
   "metadata": {},
   "outputs": [],
   "source": [
    "df1 = df.loc[df.PeriodID < pytz.FixedOffset(600).localize(dt.datetime(2018, 8, 1)), :]"
   ]
  },
  {
   "cell_type": "code",
   "execution_count": null,
   "metadata": {},
   "outputs": [],
   "source": [
    "df.PeriodID = df.PeriodID.dt.tz_localize(None)\n",
    "df.head()"
   ]
  }
 ],
 "metadata": {
  "kernelspec": {
   "display_name": "Python 3",
   "language": "python",
   "name": "python3"
  },
  "language_info": {
   "codemirror_mode": {
    "name": "ipython",
    "version": 3
   },
   "file_extension": ".py",
   "mimetype": "text/x-python",
   "name": "python",
   "nbconvert_exporter": "python",
   "pygments_lexer": "ipython3",
   "version": "3.6.8"
  }
 },
 "nbformat": 4,
 "nbformat_minor": 4
}
