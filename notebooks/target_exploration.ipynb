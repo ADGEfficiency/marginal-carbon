{
 "cells": [
  {
   "cell_type": "code",
   "execution_count": 2,
   "metadata": {},
   "outputs": [],
   "source": [
    "import pandas as pd\n",
    "import datetime as dt\n",
    "import pytz\n",
    "import os"
   ]
  },
  {
   "cell_type": "code",
   "execution_count": 36,
   "metadata": {},
   "outputs": [],
   "source": [
    "#final code_block <- works\n",
    "\n",
    "def mod_concat_NEM(file_path):\n",
    "    df = pd.read_pickle(file_path)\n",
    "    df.drop(columns=[\"BandNo\",\"RRNBandPrice\",\"BandCost\"], inplace=True)\n",
    "    df = df.set_index('PeriodID', drop=True)\n",
    "    df.index = pd.to_datetime(df.index).tz_localize(None)\n",
    "    df[[\"Price\", \"Increase\"]] = df[[\"Price\", \"Increase\"]].astype(float)\n",
    "    print(df.info())\n",
    "    df.sort_index(inplace=True, ascending=False)\n",
    "    df.index = df.index - dt.timedelta(minutes = 5)\n",
    "    df = df.loc[df.index < dt.datetime(2018,8,1), :]\n",
    "    assert df[\"Price\"].dtype == float\n",
    "    assert df[\"Increase\"].dtype == float\n",
    "    assert df.isna().any().any() == False\n",
    "    return df"
   ]
  },
  {
   "cell_type": "code",
   "execution_count": 37,
   "metadata": {},
   "outputs": [
    {
     "name": "stdout",
     "output_type": "stream",
     "text": [
      "<class 'pandas.core.frame.DataFrame'>\n",
      "DatetimeIndex: 5951880 entries, 2015-06-23 13:40:00 to 2012-01-11 12:45:00\n",
      "Data columns (total 6 columns):\n",
      "RegionID            object\n",
      "Market              object\n",
      "Price               float64\n",
      "Unit                object\n",
      "DispatchedMarket    object\n",
      "Increase            float64\n",
      "dtypes: float64(2), object(4)\n",
      "memory usage: 317.9+ MB\n",
      "None\n"
     ]
    }
   ],
   "source": [
    "file = '{}/nem-data/nemde_clean/concat_for_energy_SA1'.format(os.environ['HOME'])\n",
    "\n",
    "df = mod_concat_NEM(file)"
   ]
  },
  {
   "cell_type": "code",
   "execution_count": 39,
   "metadata": {},
   "outputs": [
    {
     "name": "stdout",
     "output_type": "stream",
     "text": [
      "(5951707, 6)\n"
     ]
    },
    {
     "data": {
      "text/html": [
       "<div>\n",
       "<style scoped>\n",
       "    .dataframe tbody tr th:only-of-type {\n",
       "        vertical-align: middle;\n",
       "    }\n",
       "\n",
       "    .dataframe tbody tr th {\n",
       "        vertical-align: top;\n",
       "    }\n",
       "\n",
       "    .dataframe thead th {\n",
       "        text-align: right;\n",
       "    }\n",
       "</style>\n",
       "<table border=\"1\" class=\"dataframe\">\n",
       "  <thead>\n",
       "    <tr style=\"text-align: right;\">\n",
       "      <th></th>\n",
       "      <th>RegionID</th>\n",
       "      <th>Market</th>\n",
       "      <th>Price</th>\n",
       "      <th>Unit</th>\n",
       "      <th>DispatchedMarket</th>\n",
       "      <th>Increase</th>\n",
       "    </tr>\n",
       "    <tr>\n",
       "      <th>PeriodID</th>\n",
       "      <th></th>\n",
       "      <th></th>\n",
       "      <th></th>\n",
       "      <th></th>\n",
       "      <th></th>\n",
       "      <th></th>\n",
       "    </tr>\n",
       "  </thead>\n",
       "  <tbody>\n",
       "    <tr>\n",
       "      <td>2018-07-31 23:55:00</td>\n",
       "      <td>SA1</td>\n",
       "      <td>Energy</td>\n",
       "      <td>70.70204</td>\n",
       "      <td>ER01</td>\n",
       "      <td>ENOF</td>\n",
       "      <td>0.34712</td>\n",
       "    </tr>\n",
       "    <tr>\n",
       "      <td>2018-07-31 23:55:00</td>\n",
       "      <td>SA1</td>\n",
       "      <td>Energy</td>\n",
       "      <td>70.70204</td>\n",
       "      <td>ER04</td>\n",
       "      <td>ENOF</td>\n",
       "      <td>0.31058</td>\n",
       "    </tr>\n",
       "    <tr>\n",
       "      <td>2018-07-31 23:55:00</td>\n",
       "      <td>SA1</td>\n",
       "      <td>Energy</td>\n",
       "      <td>70.70204</td>\n",
       "      <td>ER03</td>\n",
       "      <td>ENOF</td>\n",
       "      <td>0.34712</td>\n",
       "    </tr>\n",
       "    <tr>\n",
       "      <td>2018-07-31 23:55:00</td>\n",
       "      <td>SA1</td>\n",
       "      <td>Energy</td>\n",
       "      <td>70.70204</td>\n",
       "      <td>ER02</td>\n",
       "      <td>ENOF</td>\n",
       "      <td>0.31058</td>\n",
       "    </tr>\n",
       "    <tr>\n",
       "      <td>2018-07-31 23:50:00</td>\n",
       "      <td>SA1</td>\n",
       "      <td>Energy</td>\n",
       "      <td>69.24109</td>\n",
       "      <td>DEVILS_G</td>\n",
       "      <td>L5MI</td>\n",
       "      <td>-1.29132</td>\n",
       "    </tr>\n",
       "  </tbody>\n",
       "</table>\n",
       "</div>"
      ],
      "text/plain": [
       "                    RegionID  Market     Price      Unit DispatchedMarket  \\\n",
       "PeriodID                                                                    \n",
       "2018-07-31 23:55:00      SA1  Energy  70.70204      ER01             ENOF   \n",
       "2018-07-31 23:55:00      SA1  Energy  70.70204      ER04             ENOF   \n",
       "2018-07-31 23:55:00      SA1  Energy  70.70204      ER03             ENOF   \n",
       "2018-07-31 23:55:00      SA1  Energy  70.70204      ER02             ENOF   \n",
       "2018-07-31 23:50:00      SA1  Energy  69.24109  DEVILS_G             L5MI   \n",
       "\n",
       "                     Increase  \n",
       "PeriodID                       \n",
       "2018-07-31 23:55:00   0.34712  \n",
       "2018-07-31 23:55:00   0.31058  \n",
       "2018-07-31 23:55:00   0.34712  \n",
       "2018-07-31 23:55:00   0.31058  \n",
       "2018-07-31 23:50:00  -1.29132  "
      ]
     },
     "execution_count": 39,
     "metadata": {},
     "output_type": "execute_result"
    }
   ],
   "source": [
    "print(df.shape)\n",
    "df.head()"
   ]
  },
  {
   "cell_type": "code",
   "execution_count": 47,
   "metadata": {},
   "outputs": [
    {
     "name": "stdout",
     "output_type": "stream",
     "text": [
      "The number of time periods is 946847.\n"
     ]
    },
    {
     "data": {
      "text/plain": [
       "1    946844\n",
       "2         3\n",
       "Name: Price, dtype: int64"
      ]
     },
     "execution_count": 47,
     "metadata": {},
     "output_type": "execute_result"
    }
   ],
   "source": [
    "df_grouped = df.groupby(\"PeriodID\").agg({\"Price\" : \"nunique\"})\n",
    "print(\"The number of time periods is {}.\".format(df_grouped.shape[0]))\n",
    "df_grouped.Price.value_counts()"
   ]
  },
  {
   "cell_type": "code",
   "execution_count": 42,
   "metadata": {},
   "outputs": [
    {
     "data": {
      "text/html": [
       "<div>\n",
       "<style scoped>\n",
       "    .dataframe tbody tr th:only-of-type {\n",
       "        vertical-align: middle;\n",
       "    }\n",
       "\n",
       "    .dataframe tbody tr th {\n",
       "        vertical-align: top;\n",
       "    }\n",
       "\n",
       "    .dataframe thead th {\n",
       "        text-align: right;\n",
       "    }\n",
       "</style>\n",
       "<table border=\"1\" class=\"dataframe\">\n",
       "  <thead>\n",
       "    <tr style=\"text-align: right;\">\n",
       "      <th></th>\n",
       "      <th>Price</th>\n",
       "    </tr>\n",
       "    <tr>\n",
       "      <th>PeriodID</th>\n",
       "      <th></th>\n",
       "    </tr>\n",
       "  </thead>\n",
       "  <tbody>\n",
       "    <tr>\n",
       "      <td>2015-02-22 23:30:00</td>\n",
       "      <td>2</td>\n",
       "    </tr>\n",
       "    <tr>\n",
       "      <td>2015-05-01 08:40:00</td>\n",
       "      <td>2</td>\n",
       "    </tr>\n",
       "    <tr>\n",
       "      <td>2016-10-31 20:30:00</td>\n",
       "      <td>2</td>\n",
       "    </tr>\n",
       "  </tbody>\n",
       "</table>\n",
       "</div>"
      ],
      "text/plain": [
       "                     Price\n",
       "PeriodID                  \n",
       "2015-02-22 23:30:00      2\n",
       "2015-05-01 08:40:00      2\n",
       "2016-10-31 20:30:00      2"
      ]
     },
     "execution_count": 42,
     "metadata": {},
     "output_type": "execute_result"
    }
   ],
   "source": [
    "df_grouped.loc[df_grouped.Price == 2]"
   ]
  },
  {
   "cell_type": "code",
   "execution_count": 40,
   "metadata": {},
   "outputs": [
    {
     "data": {
      "text/html": [
       "<div>\n",
       "<style scoped>\n",
       "    .dataframe tbody tr th:only-of-type {\n",
       "        vertical-align: middle;\n",
       "    }\n",
       "\n",
       "    .dataframe tbody tr th {\n",
       "        vertical-align: top;\n",
       "    }\n",
       "\n",
       "    .dataframe thead th {\n",
       "        text-align: right;\n",
       "    }\n",
       "</style>\n",
       "<table border=\"1\" class=\"dataframe\">\n",
       "  <thead>\n",
       "    <tr style=\"text-align: right;\">\n",
       "      <th></th>\n",
       "      <th>Price</th>\n",
       "    </tr>\n",
       "    <tr>\n",
       "      <th>PeriodID</th>\n",
       "      <th></th>\n",
       "    </tr>\n",
       "  </thead>\n",
       "  <tbody>\n",
       "    <tr>\n",
       "      <td>2016-10-31 20:30:00</td>\n",
       "      <td>15</td>\n",
       "    </tr>\n",
       "    <tr>\n",
       "      <td>2015-05-01 08:40:00</td>\n",
       "      <td>41</td>\n",
       "    </tr>\n",
       "    <tr>\n",
       "      <td>2015-02-22 23:30:00</td>\n",
       "      <td>8</td>\n",
       "    </tr>\n",
       "  </tbody>\n",
       "</table>\n",
       "</div>"
      ],
      "text/plain": [
       "                     Price\n",
       "PeriodID                  \n",
       "2016-10-31 20:30:00     15\n",
       "2015-05-01 08:40:00     41\n",
       "2015-02-22 23:30:00      8"
      ]
     },
     "execution_count": 40,
     "metadata": {},
     "output_type": "execute_result"
    }
   ],
   "source": [
    "df_price_count = df.groupby(\"PeriodID\").agg({\"Price\" : \"count\"}).sort_values(by=\"PeriodID\", ascending=False)\n",
    "\n",
    "df_price_count[(df_price_count.index == dt.datetime(2015,2,22,23,30,0)) | \n",
    "   (df_price_count.index == dt.datetime(2015,5,1,8,40,0)) | \n",
    "   (df_price_count.index == dt.datetime(2016,10,31,20,30,0))]"
   ]
  },
  {
   "cell_type": "code",
   "execution_count": 43,
   "metadata": {},
   "outputs": [
    {
     "data": {
      "text/html": [
       "<div>\n",
       "<style scoped>\n",
       "    .dataframe tbody tr th:only-of-type {\n",
       "        vertical-align: middle;\n",
       "    }\n",
       "\n",
       "    .dataframe tbody tr th {\n",
       "        vertical-align: top;\n",
       "    }\n",
       "\n",
       "    .dataframe thead tr th {\n",
       "        text-align: left;\n",
       "    }\n",
       "\n",
       "    .dataframe thead tr:last-of-type th {\n",
       "        text-align: right;\n",
       "    }\n",
       "</style>\n",
       "<table border=\"1\" class=\"dataframe\">\n",
       "  <thead>\n",
       "    <tr>\n",
       "      <th></th>\n",
       "      <th colspan=\"2\" halign=\"left\">Price</th>\n",
       "    </tr>\n",
       "    <tr>\n",
       "      <th></th>\n",
       "      <th>min</th>\n",
       "      <th>max</th>\n",
       "    </tr>\n",
       "    <tr>\n",
       "      <th>PeriodID</th>\n",
       "      <th></th>\n",
       "      <th></th>\n",
       "    </tr>\n",
       "  </thead>\n",
       "  <tbody>\n",
       "    <tr>\n",
       "      <td>2015-02-22 23:30:00</td>\n",
       "      <td>97591.06624</td>\n",
       "      <td>368100.07478</td>\n",
       "    </tr>\n",
       "    <tr>\n",
       "      <td>2015-05-01 08:40:00</td>\n",
       "      <td>70.29670</td>\n",
       "      <td>72.09740</td>\n",
       "    </tr>\n",
       "    <tr>\n",
       "      <td>2016-10-31 20:30:00</td>\n",
       "      <td>95.98007</td>\n",
       "      <td>509229.65442</td>\n",
       "    </tr>\n",
       "  </tbody>\n",
       "</table>\n",
       "</div>"
      ],
      "text/plain": [
       "                           Price              \n",
       "                             min           max\n",
       "PeriodID                                      \n",
       "2015-02-22 23:30:00  97591.06624  368100.07478\n",
       "2015-05-01 08:40:00     70.29670      72.09740\n",
       "2016-10-31 20:30:00     95.98007  509229.65442"
      ]
     },
     "execution_count": 43,
     "metadata": {},
     "output_type": "execute_result"
    }
   ],
   "source": [
    "df_outlier = df[(df.index == dt.datetime(2015,2,22,23,30,0)) | \n",
    "   (df.index == dt.datetime(2015,5,1,8,40,0)) | \n",
    "   (df.index == dt.datetime(2016,10,31,20,30,0))]\n",
    "\n",
    "df_outlier.groupby('PeriodID').agg({'Price' : ['min', 'max']})"
   ]
  },
  {
   "cell_type": "code",
   "execution_count": 52,
   "metadata": {},
   "outputs": [
    {
     "data": {
      "text/html": [
       "<div>\n",
       "<style scoped>\n",
       "    .dataframe tbody tr th:only-of-type {\n",
       "        vertical-align: middle;\n",
       "    }\n",
       "\n",
       "    .dataframe tbody tr th {\n",
       "        vertical-align: top;\n",
       "    }\n",
       "\n",
       "    .dataframe thead th {\n",
       "        text-align: right;\n",
       "    }\n",
       "</style>\n",
       "<table border=\"1\" class=\"dataframe\">\n",
       "  <thead>\n",
       "    <tr style=\"text-align: right;\">\n",
       "      <th></th>\n",
       "      <th>Price</th>\n",
       "    </tr>\n",
       "    <tr>\n",
       "      <th>PeriodID</th>\n",
       "      <th></th>\n",
       "    </tr>\n",
       "  </thead>\n",
       "  <tbody>\n",
       "    <tr>\n",
       "      <td>2018-07-31 23:55:00</td>\n",
       "      <td>70.70204</td>\n",
       "    </tr>\n",
       "    <tr>\n",
       "      <td>2018-07-31 23:50:00</td>\n",
       "      <td>69.24109</td>\n",
       "    </tr>\n",
       "    <tr>\n",
       "      <td>2018-07-31 23:45:00</td>\n",
       "      <td>69.94850</td>\n",
       "    </tr>\n",
       "    <tr>\n",
       "      <td>2018-07-31 23:40:00</td>\n",
       "      <td>74.04497</td>\n",
       "    </tr>\n",
       "    <tr>\n",
       "      <td>2018-07-31 23:35:00</td>\n",
       "      <td>76.44245</td>\n",
       "    </tr>\n",
       "    <tr>\n",
       "      <td>...</td>\n",
       "      <td>...</td>\n",
       "    </tr>\n",
       "    <tr>\n",
       "      <td>2009-07-01 04:20:00</td>\n",
       "      <td>1.75480</td>\n",
       "    </tr>\n",
       "    <tr>\n",
       "      <td>2009-07-01 04:15:00</td>\n",
       "      <td>1.44014</td>\n",
       "    </tr>\n",
       "    <tr>\n",
       "      <td>2009-07-01 04:10:00</td>\n",
       "      <td>-0.00006</td>\n",
       "    </tr>\n",
       "    <tr>\n",
       "      <td>2009-07-01 04:05:00</td>\n",
       "      <td>-0.00006</td>\n",
       "    </tr>\n",
       "    <tr>\n",
       "      <td>2009-07-01 04:00:00</td>\n",
       "      <td>1.35918</td>\n",
       "    </tr>\n",
       "  </tbody>\n",
       "</table>\n",
       "<p>946847 rows × 1 columns</p>\n",
       "</div>"
      ],
      "text/plain": [
       "                        Price\n",
       "PeriodID                     \n",
       "2018-07-31 23:55:00  70.70204\n",
       "2018-07-31 23:50:00  69.24109\n",
       "2018-07-31 23:45:00  69.94850\n",
       "2018-07-31 23:40:00  74.04497\n",
       "2018-07-31 23:35:00  76.44245\n",
       "...                       ...\n",
       "2009-07-01 04:20:00   1.75480\n",
       "2009-07-01 04:15:00   1.44014\n",
       "2009-07-01 04:10:00  -0.00006\n",
       "2009-07-01 04:05:00  -0.00006\n",
       "2009-07-01 04:00:00   1.35918\n",
       "\n",
       "[946847 rows x 1 columns]"
      ]
     },
     "execution_count": 52,
     "metadata": {},
     "output_type": "execute_result"
    }
   ],
   "source": [
    "df_group_price = df.groupby(\"PeriodID\").agg({\"Price\":\"mean\"}).sort_values(by=\"PeriodID\",ascending=False)\n",
    "df_group_price"
   ]
  },
  {
   "cell_type": "code",
   "execution_count": 207,
   "metadata": {},
   "outputs": [],
   "source": [
    "pd.to_pickle(df_group_price, '{}/nem-data/nemde_clean/df_grouped_price.pkl'.format(os.environ['HOME']))"
   ]
  },
  {
   "cell_type": "code",
   "execution_count": 51,
   "metadata": {},
   "outputs": [
    {
     "name": "stdout",
     "output_type": "stream",
     "text": [
      "The number of time periods is 955536.\n"
     ]
    },
    {
     "data": {
      "text/html": [
       "<div>\n",
       "<style scoped>\n",
       "    .dataframe tbody tr th:only-of-type {\n",
       "        vertical-align: middle;\n",
       "    }\n",
       "\n",
       "    .dataframe tbody tr th {\n",
       "        vertical-align: top;\n",
       "    }\n",
       "\n",
       "    .dataframe thead th {\n",
       "        text-align: right;\n",
       "    }\n",
       "</style>\n",
       "<table border=\"1\" class=\"dataframe\">\n",
       "  <thead>\n",
       "    <tr style=\"text-align: right;\">\n",
       "      <th></th>\n",
       "      <th>RRP SA1</th>\n",
       "    </tr>\n",
       "    <tr>\n",
       "      <th>tempus_interval_time</th>\n",
       "      <th></th>\n",
       "    </tr>\n",
       "  </thead>\n",
       "  <tbody>\n",
       "    <tr>\n",
       "      <td>2018-07-31 23:55:00</td>\n",
       "      <td>70.70204</td>\n",
       "    </tr>\n",
       "    <tr>\n",
       "      <td>2018-07-31 23:50:00</td>\n",
       "      <td>69.24109</td>\n",
       "    </tr>\n",
       "    <tr>\n",
       "      <td>2018-07-31 23:45:00</td>\n",
       "      <td>69.94850</td>\n",
       "    </tr>\n",
       "    <tr>\n",
       "      <td>2018-07-31 23:40:00</td>\n",
       "      <td>74.04497</td>\n",
       "    </tr>\n",
       "    <tr>\n",
       "      <td>2018-07-31 23:35:00</td>\n",
       "      <td>76.44245</td>\n",
       "    </tr>\n",
       "  </tbody>\n",
       "</table>\n",
       "</div>"
      ],
      "text/plain": [
       "                       RRP SA1\n",
       "tempus_interval_time          \n",
       "2018-07-31 23:55:00   70.70204\n",
       "2018-07-31 23:50:00   69.24109\n",
       "2018-07-31 23:45:00   69.94850\n",
       "2018-07-31 23:40:00   74.04497\n",
       "2018-07-31 23:35:00   76.44245"
      ]
     },
     "execution_count": 51,
     "metadata": {},
     "output_type": "execute_result"
    }
   ],
   "source": [
    "df_dispatch = pd.read_csv('/home/bastian/nem-data/clean/dispatch_price.csv', index_col = 0, parse_dates=True)\n",
    "df_dispatch.sort_index(ascending=False, inplace=True)\n",
    "df_dispatch = df_dispatch.loc[(df_dispatch.index <= df.index.max()) &\n",
    "                              (df_dispatch.index >= df.index.min()), :][['RRP SA1']]\n",
    "assert df_dispatch[\"RRP SA1\"].dtype == float\n",
    "assert df_dispatch.index.min() == df.index.min()\n",
    "assert df_dispatch.index.max() == df.index.max()\n",
    "print(\"The number of time periods is {}.\".format(df_dispatch.shape[0]))\n",
    "df_dispatch.head()"
   ]
  },
  {
   "cell_type": "code",
   "execution_count": 191,
   "metadata": {},
   "outputs": [
    {
     "name": "stdout",
     "output_type": "stream",
     "text": [
      "(946847, 2)\n"
     ]
    },
    {
     "data": {
      "text/html": [
       "<div>\n",
       "<style scoped>\n",
       "    .dataframe tbody tr th:only-of-type {\n",
       "        vertical-align: middle;\n",
       "    }\n",
       "\n",
       "    .dataframe tbody tr th {\n",
       "        vertical-align: top;\n",
       "    }\n",
       "\n",
       "    .dataframe thead th {\n",
       "        text-align: right;\n",
       "    }\n",
       "</style>\n",
       "<table border=\"1\" class=\"dataframe\">\n",
       "  <thead>\n",
       "    <tr style=\"text-align: right;\">\n",
       "      <th></th>\n",
       "      <th>Price</th>\n",
       "      <th>RRP SA1</th>\n",
       "    </tr>\n",
       "  </thead>\n",
       "  <tbody>\n",
       "    <tr>\n",
       "      <td>2018-07-31 23:55:00</td>\n",
       "      <td>70.70204</td>\n",
       "      <td>70.70204</td>\n",
       "    </tr>\n",
       "    <tr>\n",
       "      <td>2018-07-31 23:50:00</td>\n",
       "      <td>69.24109</td>\n",
       "      <td>69.24109</td>\n",
       "    </tr>\n",
       "    <tr>\n",
       "      <td>2018-07-31 23:45:00</td>\n",
       "      <td>69.94850</td>\n",
       "      <td>69.94850</td>\n",
       "    </tr>\n",
       "    <tr>\n",
       "      <td>2018-07-31 23:40:00</td>\n",
       "      <td>74.04497</td>\n",
       "      <td>74.04497</td>\n",
       "    </tr>\n",
       "    <tr>\n",
       "      <td>2018-07-31 23:35:00</td>\n",
       "      <td>76.44245</td>\n",
       "      <td>76.44245</td>\n",
       "    </tr>\n",
       "  </tbody>\n",
       "</table>\n",
       "</div>"
      ],
      "text/plain": [
       "                        Price   RRP SA1\n",
       "2018-07-31 23:55:00  70.70204  70.70204\n",
       "2018-07-31 23:50:00  69.24109  69.24109\n",
       "2018-07-31 23:45:00  69.94850  69.94850\n",
       "2018-07-31 23:40:00  74.04497  74.04497\n",
       "2018-07-31 23:35:00  76.44245  76.44245"
      ]
     },
     "execution_count": 191,
     "metadata": {},
     "output_type": "execute_result"
    }
   ],
   "source": [
    "df_join = df_group_price.join(df_dispatch, how='inner')\n",
    "print(df_join.shape)\n",
    "df_join.head()"
   ]
  },
  {
   "cell_type": "code",
   "execution_count": 192,
   "metadata": {},
   "outputs": [
    {
     "data": {
      "text/plain": [
       "Price      False\n",
       "RRP SA1    False\n",
       "dtype: bool"
      ]
     },
     "execution_count": 192,
     "metadata": {},
     "output_type": "execute_result"
    }
   ],
   "source": [
    "df_join.isna().any()"
   ]
  },
  {
   "cell_type": "code",
   "execution_count": 193,
   "metadata": {},
   "outputs": [
    {
     "name": "stdout",
     "output_type": "stream",
     "text": [
      "<class 'pandas.core.frame.DataFrame'>\n",
      "DatetimeIndex: 946847 entries, 2018-07-31 23:55:00 to 2009-07-01 04:00:00\n",
      "Data columns (total 2 columns):\n",
      "Price      946847 non-null float64\n",
      "RRP SA1    946847 non-null float64\n",
      "dtypes: float64(2)\n",
      "memory usage: 21.7 MB\n"
     ]
    }
   ],
   "source": [
    "df_join.info()"
   ]
  },
  {
   "cell_type": "code",
   "execution_count": 194,
   "metadata": {},
   "outputs": [
    {
     "name": "stdout",
     "output_type": "stream",
     "text": [
      "The percentage of mismatching prices in df_join is 0.41 %.\n"
     ]
    }
   ],
   "source": [
    "print(\"The percentage of mismatching prices in df_join is {} %.\".format(round(((sum(abs((df_join[\"Price\"] - df_join[\"RRP SA1\"])\\\n",
    "                                                                                  /df_join[\"RRP SA1\"]) > 0.000001)/df_join.shape[0])*100),2)))"
   ]
  },
  {
   "cell_type": "code",
   "execution_count": 195,
   "metadata": {},
   "outputs": [
    {
     "name": "stdout",
     "output_type": "stream",
     "text": [
      "min     1.010000e-03\n",
      "max     2.099937e+06\n",
      "mean    8.669131e+03\n",
      "dtype: float64\n",
      "(3921, 2)\n"
     ]
    },
    {
     "data": {
      "text/html": [
       "<div>\n",
       "<style scoped>\n",
       "    .dataframe tbody tr th:only-of-type {\n",
       "        vertical-align: middle;\n",
       "    }\n",
       "\n",
       "    .dataframe tbody tr th {\n",
       "        vertical-align: top;\n",
       "    }\n",
       "\n",
       "    .dataframe thead th {\n",
       "        text-align: right;\n",
       "    }\n",
       "</style>\n",
       "<table border=\"1\" class=\"dataframe\">\n",
       "  <thead>\n",
       "    <tr style=\"text-align: right;\">\n",
       "      <th></th>\n",
       "      <th>Price</th>\n",
       "      <th>RRP SA1</th>\n",
       "    </tr>\n",
       "  </thead>\n",
       "  <tbody>\n",
       "    <tr>\n",
       "      <td>2018-04-27 18:50:00</td>\n",
       "      <td>426000.00401</td>\n",
       "      <td>14200.00</td>\n",
       "    </tr>\n",
       "    <tr>\n",
       "      <td>2018-04-27 18:45:00</td>\n",
       "      <td>426000.00403</td>\n",
       "      <td>14200.00</td>\n",
       "    </tr>\n",
       "    <tr>\n",
       "      <td>2018-04-26 11:30:00</td>\n",
       "      <td>426000.00385</td>\n",
       "      <td>14200.00</td>\n",
       "    </tr>\n",
       "    <tr>\n",
       "      <td>2018-04-26 11:25:00</td>\n",
       "      <td>426000.00411</td>\n",
       "      <td>14200.00</td>\n",
       "    </tr>\n",
       "    <tr>\n",
       "      <td>2018-02-08 01:00:00</td>\n",
       "      <td>14673.29560</td>\n",
       "      <td>590.01</td>\n",
       "    </tr>\n",
       "  </tbody>\n",
       "</table>\n",
       "</div>"
      ],
      "text/plain": [
       "                            Price   RRP SA1\n",
       "2018-04-27 18:50:00  426000.00401  14200.00\n",
       "2018-04-27 18:45:00  426000.00403  14200.00\n",
       "2018-04-26 11:30:00  426000.00385  14200.00\n",
       "2018-04-26 11:25:00  426000.00411  14200.00\n",
       "2018-02-08 01:00:00   14673.29560    590.01"
      ]
     },
     "execution_count": 195,
     "metadata": {},
     "output_type": "execute_result"
    }
   ],
   "source": [
    "df_join_mismatch = df_join.loc[abs((df_join[\"Price\"] - df_join[\"RRP SA1\"])/df_join[\"RRP SA1\"]) > 0.000001, :]\n",
    "print((abs(df_join_mismatch[\"Price\"] - df_join_mismatch[\"RRP SA1\"])).agg([\"min\", \"max\", \"mean\"]))\n",
    "print(df_join_mismatch.shape)\n",
    "df_join_mismatch.head()"
   ]
  },
  {
   "cell_type": "code",
   "execution_count": 196,
   "metadata": {},
   "outputs": [
    {
     "name": "stdout",
     "output_type": "stream",
     "text": [
      "(942926, 2)\n"
     ]
    }
   ],
   "source": [
    "df_join.drop(df_join_mismatch.index, inplace=True)\n",
    "print(df_join.shape)"
   ]
  },
  {
   "cell_type": "code",
   "execution_count": 197,
   "metadata": {},
   "outputs": [
    {
     "name": "stdout",
     "output_type": "stream",
     "text": [
      "<class 'pandas.core.frame.DataFrame'>\n",
      "DatetimeIndex: 942926 entries, 2018-07-31 23:55:00 to 2009-07-01 04:00:00\n",
      "Data columns (total 2 columns):\n",
      "Price      942926 non-null float64\n",
      "RRP SA1    942926 non-null float64\n",
      "dtypes: float64(2)\n",
      "memory usage: 21.6 MB\n"
     ]
    },
    {
     "data": {
      "text/html": [
       "<div>\n",
       "<style scoped>\n",
       "    .dataframe tbody tr th:only-of-type {\n",
       "        vertical-align: middle;\n",
       "    }\n",
       "\n",
       "    .dataframe tbody tr th {\n",
       "        vertical-align: top;\n",
       "    }\n",
       "\n",
       "    .dataframe thead th {\n",
       "        text-align: right;\n",
       "    }\n",
       "</style>\n",
       "<table border=\"1\" class=\"dataframe\">\n",
       "  <thead>\n",
       "    <tr style=\"text-align: right;\">\n",
       "      <th></th>\n",
       "      <th>Price</th>\n",
       "      <th>RRP SA1</th>\n",
       "    </tr>\n",
       "  </thead>\n",
       "  <tbody>\n",
       "  </tbody>\n",
       "</table>\n",
       "</div>"
      ],
      "text/plain": [
       "Empty DataFrame\n",
       "Columns: [Price, RRP SA1]\n",
       "Index: []"
      ]
     },
     "execution_count": 197,
     "metadata": {},
     "output_type": "execute_result"
    }
   ],
   "source": [
    "df_join.info()\n",
    "df_join.loc[abs(((df_join[\"Price\"] - df_join[\"RRP SA1\"])/df_join[\"RRP SA1\"])) > 0.000001]"
   ]
  },
  {
   "cell_type": "code",
   "execution_count": 206,
   "metadata": {},
   "outputs": [
    {
     "name": "stdout",
     "output_type": "stream",
     "text": [
      "(942926, 2)\n"
     ]
    },
    {
     "data": {
      "text/html": [
       "<div>\n",
       "<style scoped>\n",
       "    .dataframe tbody tr th:only-of-type {\n",
       "        vertical-align: middle;\n",
       "    }\n",
       "\n",
       "    .dataframe tbody tr th {\n",
       "        vertical-align: top;\n",
       "    }\n",
       "\n",
       "    .dataframe thead th {\n",
       "        text-align: right;\n",
       "    }\n",
       "</style>\n",
       "<table border=\"1\" class=\"dataframe\">\n",
       "  <thead>\n",
       "    <tr style=\"text-align: right;\">\n",
       "      <th></th>\n",
       "      <th>Price</th>\n",
       "      <th>RRP SA1</th>\n",
       "    </tr>\n",
       "  </thead>\n",
       "  <tbody>\n",
       "    <tr>\n",
       "      <td>2018-07-31 23:55:00</td>\n",
       "      <td>70.70204</td>\n",
       "      <td>70.70204</td>\n",
       "    </tr>\n",
       "    <tr>\n",
       "      <td>2018-07-31 23:50:00</td>\n",
       "      <td>69.24109</td>\n",
       "      <td>69.24109</td>\n",
       "    </tr>\n",
       "    <tr>\n",
       "      <td>2018-07-31 23:45:00</td>\n",
       "      <td>69.94850</td>\n",
       "      <td>69.94850</td>\n",
       "    </tr>\n",
       "    <tr>\n",
       "      <td>2018-07-31 23:40:00</td>\n",
       "      <td>74.04497</td>\n",
       "      <td>74.04497</td>\n",
       "    </tr>\n",
       "    <tr>\n",
       "      <td>2018-07-31 23:35:00</td>\n",
       "      <td>76.44245</td>\n",
       "      <td>76.44245</td>\n",
       "    </tr>\n",
       "  </tbody>\n",
       "</table>\n",
       "</div>"
      ],
      "text/plain": [
       "                        Price   RRP SA1\n",
       "2018-07-31 23:55:00  70.70204  70.70204\n",
       "2018-07-31 23:50:00  69.24109  69.24109\n",
       "2018-07-31 23:45:00  69.94850  69.94850\n",
       "2018-07-31 23:40:00  74.04497  74.04497\n",
       "2018-07-31 23:35:00  76.44245  76.44245"
      ]
     },
     "execution_count": 206,
     "metadata": {},
     "output_type": "execute_result"
    }
   ],
   "source": [
    "assert df_group_price.shape[0] - df_join_mismatch.shape[0] == df_join.shape[0]\n",
    "assert sum(abs((df_join[\"Price\"] - df_join[\"RRP SA1\"])/df_join[\"RRP SA1\"]) > 0.000001) == 0\n",
    "print(df_join.shape)\n",
    "df_join.head() #cleeeaaan"
   ]
  },
  {
   "cell_type": "code",
   "execution_count": 205,
   "metadata": {},
   "outputs": [],
   "source": [
    "df_join.to_pickle('{}/nem-data/nemde_clean/marginal_DUID_concat_dispatch.pkl'.format(os.environ['HOME']))"
   ]
  },
  {
   "cell_type": "code",
   "execution_count": 132,
   "metadata": {},
   "outputs": [
    {
     "data": {
      "text/html": [
       "<div>\n",
       "<style scoped>\n",
       "    .dataframe tbody tr th:only-of-type {\n",
       "        vertical-align: middle;\n",
       "    }\n",
       "\n",
       "    .dataframe tbody tr th {\n",
       "        vertical-align: top;\n",
       "    }\n",
       "\n",
       "    .dataframe thead th {\n",
       "        text-align: right;\n",
       "    }\n",
       "</style>\n",
       "<table border=\"1\" class=\"dataframe\">\n",
       "  <thead>\n",
       "    <tr style=\"text-align: right;\">\n",
       "      <th></th>\n",
       "      <th></th>\n",
       "      <th>Price</th>\n",
       "      <th>RRP SA1</th>\n",
       "    </tr>\n",
       "  </thead>\n",
       "  <tbody>\n",
       "    <tr>\n",
       "      <td>2009</td>\n",
       "      <td>9</td>\n",
       "      <td>5.635385e+04</td>\n",
       "      <td>10000.000000</td>\n",
       "    </tr>\n",
       "    <tr>\n",
       "      <td rowspan=\"4\" valign=\"top\">2010</td>\n",
       "      <td>2</td>\n",
       "      <td>2.174719e+04</td>\n",
       "      <td>10000.000000</td>\n",
       "    </tr>\n",
       "    <tr>\n",
       "      <td>6</td>\n",
       "      <td>3.231561e+04</td>\n",
       "      <td>10000.000000</td>\n",
       "    </tr>\n",
       "    <tr>\n",
       "      <td>7</td>\n",
       "      <td>6.625955e+04</td>\n",
       "      <td>43.770300</td>\n",
       "    </tr>\n",
       "    <tr>\n",
       "      <td>11</td>\n",
       "      <td>2.343915e+01</td>\n",
       "      <td>22.765203</td>\n",
       "    </tr>\n",
       "    <tr>\n",
       "      <td rowspan=\"7\" valign=\"top\">2011</td>\n",
       "      <td>1</td>\n",
       "      <td>1.434098e+04</td>\n",
       "      <td>12500.000000</td>\n",
       "    </tr>\n",
       "    <tr>\n",
       "      <td>2</td>\n",
       "      <td>4.710340e+01</td>\n",
       "      <td>43.770150</td>\n",
       "    </tr>\n",
       "    <tr>\n",
       "      <td>5</td>\n",
       "      <td>9.222582e+04</td>\n",
       "      <td>12500.000000</td>\n",
       "    </tr>\n",
       "    <tr>\n",
       "      <td>7</td>\n",
       "      <td>-1.000080e+03</td>\n",
       "      <td>-1000.000000</td>\n",
       "    </tr>\n",
       "    <tr>\n",
       "      <td>9</td>\n",
       "      <td>3.918098e+01</td>\n",
       "      <td>38.770130</td>\n",
       "    </tr>\n",
       "    <tr>\n",
       "      <td>10</td>\n",
       "      <td>1.591242e+04</td>\n",
       "      <td>12500.000000</td>\n",
       "    </tr>\n",
       "    <tr>\n",
       "      <td>11</td>\n",
       "      <td>4.618960e+05</td>\n",
       "      <td>12500.000000</td>\n",
       "    </tr>\n",
       "    <tr>\n",
       "      <td rowspan=\"3\" valign=\"top\">2012</td>\n",
       "      <td>7</td>\n",
       "      <td>4.606830e+05</td>\n",
       "      <td>7545.834620</td>\n",
       "    </tr>\n",
       "    <tr>\n",
       "      <td>11</td>\n",
       "      <td>2.016406e+04</td>\n",
       "      <td>12900.000000</td>\n",
       "    </tr>\n",
       "    <tr>\n",
       "      <td>12</td>\n",
       "      <td>-2.680101e+04</td>\n",
       "      <td>-1000.000000</td>\n",
       "    </tr>\n",
       "    <tr>\n",
       "      <td rowspan=\"3\" valign=\"top\">2013</td>\n",
       "      <td>1</td>\n",
       "      <td>4.298859e+05</td>\n",
       "      <td>12900.000000</td>\n",
       "    </tr>\n",
       "    <tr>\n",
       "      <td>6</td>\n",
       "      <td>1.307892e+04</td>\n",
       "      <td>12900.000000</td>\n",
       "    </tr>\n",
       "    <tr>\n",
       "      <td>12</td>\n",
       "      <td>1.910566e+04</td>\n",
       "      <td>13100.000000</td>\n",
       "    </tr>\n",
       "    <tr>\n",
       "      <td>2014</td>\n",
       "      <td>1</td>\n",
       "      <td>1.338380e+04</td>\n",
       "      <td>13100.000000</td>\n",
       "    </tr>\n",
       "    <tr>\n",
       "      <td rowspan=\"5\" valign=\"top\">2015</td>\n",
       "      <td>2</td>\n",
       "      <td>1.576961e+06</td>\n",
       "      <td>13494.500000</td>\n",
       "    </tr>\n",
       "    <tr>\n",
       "      <td>5</td>\n",
       "      <td>7.056022e+01</td>\n",
       "      <td>70.296700</td>\n",
       "    </tr>\n",
       "    <tr>\n",
       "      <td>8</td>\n",
       "      <td>1.380099e+04</td>\n",
       "      <td>13800.000000</td>\n",
       "    </tr>\n",
       "    <tr>\n",
       "      <td>9</td>\n",
       "      <td>2.070000e+06</td>\n",
       "      <td>12301.300000</td>\n",
       "    </tr>\n",
       "    <tr>\n",
       "      <td>12</td>\n",
       "      <td>1.402568e+04</td>\n",
       "      <td>13800.000000</td>\n",
       "    </tr>\n",
       "    <tr>\n",
       "      <td rowspan=\"8\" valign=\"top\">2016</td>\n",
       "      <td>2</td>\n",
       "      <td>-1.067701e+03</td>\n",
       "      <td>-1000.000000</td>\n",
       "    </tr>\n",
       "    <tr>\n",
       "      <td>3</td>\n",
       "      <td>1.202903e+06</td>\n",
       "      <td>13004.662450</td>\n",
       "    </tr>\n",
       "    <tr>\n",
       "      <td>4</td>\n",
       "      <td>-1.045348e+03</td>\n",
       "      <td>-1000.000000</td>\n",
       "    </tr>\n",
       "    <tr>\n",
       "      <td>7</td>\n",
       "      <td>3.290066e+04</td>\n",
       "      <td>14000.000000</td>\n",
       "    </tr>\n",
       "    <tr>\n",
       "      <td>9</td>\n",
       "      <td>9.325866e+03</td>\n",
       "      <td>90.372990</td>\n",
       "    </tr>\n",
       "    <tr>\n",
       "      <td>10</td>\n",
       "      <td>4.507455e+02</td>\n",
       "      <td>64.854599</td>\n",
       "    </tr>\n",
       "    <tr>\n",
       "      <td>11</td>\n",
       "      <td>2.100000e+06</td>\n",
       "      <td>14000.000000</td>\n",
       "    </tr>\n",
       "    <tr>\n",
       "      <td>12</td>\n",
       "      <td>3.425576e+05</td>\n",
       "      <td>14000.000000</td>\n",
       "    </tr>\n",
       "    <tr>\n",
       "      <td rowspan=\"3\" valign=\"top\">2017</td>\n",
       "      <td>2</td>\n",
       "      <td>1.123866e+06</td>\n",
       "      <td>14000.000000</td>\n",
       "    </tr>\n",
       "    <tr>\n",
       "      <td>3</td>\n",
       "      <td>1.400117e+06</td>\n",
       "      <td>9374.996687</td>\n",
       "    </tr>\n",
       "    <tr>\n",
       "      <td>5</td>\n",
       "      <td>2.100000e+06</td>\n",
       "      <td>14000.000000</td>\n",
       "    </tr>\n",
       "    <tr>\n",
       "      <td rowspan=\"3\" valign=\"top\">2018</td>\n",
       "      <td>1</td>\n",
       "      <td>1.875223e+04</td>\n",
       "      <td>14200.000000</td>\n",
       "    </tr>\n",
       "    <tr>\n",
       "      <td>2</td>\n",
       "      <td>1.467330e+04</td>\n",
       "      <td>590.010000</td>\n",
       "    </tr>\n",
       "    <tr>\n",
       "      <td>4</td>\n",
       "      <td>4.260000e+05</td>\n",
       "      <td>14200.000000</td>\n",
       "    </tr>\n",
       "  </tbody>\n",
       "</table>\n",
       "</div>"
      ],
      "text/plain": [
       "                Price       RRP SA1\n",
       "2009 9   5.635385e+04  10000.000000\n",
       "2010 2   2.174719e+04  10000.000000\n",
       "     6   3.231561e+04  10000.000000\n",
       "     7   6.625955e+04     43.770300\n",
       "     11  2.343915e+01     22.765203\n",
       "2011 1   1.434098e+04  12500.000000\n",
       "     2   4.710340e+01     43.770150\n",
       "     5   9.222582e+04  12500.000000\n",
       "     7  -1.000080e+03  -1000.000000\n",
       "     9   3.918098e+01     38.770130\n",
       "     10  1.591242e+04  12500.000000\n",
       "     11  4.618960e+05  12500.000000\n",
       "2012 7   4.606830e+05   7545.834620\n",
       "     11  2.016406e+04  12900.000000\n",
       "     12 -2.680101e+04  -1000.000000\n",
       "2013 1   4.298859e+05  12900.000000\n",
       "     6   1.307892e+04  12900.000000\n",
       "     12  1.910566e+04  13100.000000\n",
       "2014 1   1.338380e+04  13100.000000\n",
       "2015 2   1.576961e+06  13494.500000\n",
       "     5   7.056022e+01     70.296700\n",
       "     8   1.380099e+04  13800.000000\n",
       "     9   2.070000e+06  12301.300000\n",
       "     12  1.402568e+04  13800.000000\n",
       "2016 2  -1.067701e+03  -1000.000000\n",
       "     3   1.202903e+06  13004.662450\n",
       "     4  -1.045348e+03  -1000.000000\n",
       "     7   3.290066e+04  14000.000000\n",
       "     9   9.325866e+03     90.372990\n",
       "     10  4.507455e+02     64.854599\n",
       "     11  2.100000e+06  14000.000000\n",
       "     12  3.425576e+05  14000.000000\n",
       "2017 2   1.123866e+06  14000.000000\n",
       "     3   1.400117e+06   9374.996687\n",
       "     5   2.100000e+06  14000.000000\n",
       "2018 1   1.875223e+04  14200.000000\n",
       "     2   1.467330e+04    590.010000\n",
       "     4   4.260000e+05  14200.000000"
      ]
     },
     "execution_count": 132,
     "metadata": {},
     "output_type": "execute_result"
    }
   ],
   "source": [
    "df_join_mismatch.groupby([df_join_mismatch.index.year, df_join_mismatch.index.month]).mean()"
   ]
  },
  {
   "cell_type": "code",
   "execution_count": 133,
   "metadata": {},
   "outputs": [
    {
     "data": {
      "text/plain": [
       "(1434, 2)"
      ]
     },
     "execution_count": 133,
     "metadata": {},
     "output_type": "execute_result"
    }
   ],
   "source": [
    "df_join_mismatch.shape"
   ]
  },
  {
   "cell_type": "code",
   "execution_count": null,
   "metadata": {},
   "outputs": [],
   "source": []
  },
  {
   "cell_type": "code",
   "execution_count": null,
   "metadata": {},
   "outputs": [],
   "source": [
    "df1 = df.loc[df.PeriodID < pytz.FixedOffset(600).localize(dt.datetime(2018, 8, 1)), :]"
   ]
  },
  {
   "cell_type": "code",
   "execution_count": null,
   "metadata": {},
   "outputs": [],
   "source": [
    "df.PeriodID = df.PeriodID.dt.tz_localize(None)\n",
    "df.head()"
   ]
  }
 ],
 "metadata": {
  "kernelspec": {
   "display_name": "Python 3",
   "language": "python",
   "name": "python3"
  },
  "language_info": {
   "codemirror_mode": {
    "name": "ipython",
    "version": 3
   },
   "file_extension": ".py",
   "mimetype": "text/x-python",
   "name": "python",
   "nbconvert_exporter": "python",
   "pygments_lexer": "ipython3",
   "version": "3.6.8"
  }
 },
 "nbformat": 4,
 "nbformat_minor": 4
}
