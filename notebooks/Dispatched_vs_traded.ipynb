{
 "cells": [
  {
   "cell_type": "code",
   "execution_count": 144,
   "metadata": {},
   "outputs": [],
   "source": [
    "import pandas as pd\n",
    "import numpy as np\n",
    "import os\n",
    "import datetime as dt"
   ]
  },
  {
   "cell_type": "code",
   "execution_count": 117,
   "metadata": {},
   "outputs": [
    {
     "data": {
      "text/html": [
       "<div>\n",
       "<style scoped>\n",
       "    .dataframe tbody tr th:only-of-type {\n",
       "        vertical-align: middle;\n",
       "    }\n",
       "\n",
       "    .dataframe tbody tr th {\n",
       "        vertical-align: top;\n",
       "    }\n",
       "\n",
       "    .dataframe thead th {\n",
       "        text-align: right;\n",
       "    }\n",
       "</style>\n",
       "<table border=\"1\" class=\"dataframe\">\n",
       "  <thead>\n",
       "    <tr style=\"text-align: right;\">\n",
       "      <th></th>\n",
       "      <th>PeriodID</th>\n",
       "      <th>Price</th>\n",
       "    </tr>\n",
       "  </thead>\n",
       "  <tbody>\n",
       "    <tr>\n",
       "      <td>0</td>\n",
       "      <td>2018-07-31 23:55:00</td>\n",
       "      <td>70.70204</td>\n",
       "    </tr>\n",
       "    <tr>\n",
       "      <td>1</td>\n",
       "      <td>2018-07-31 23:50:00</td>\n",
       "      <td>69.24109</td>\n",
       "    </tr>\n",
       "    <tr>\n",
       "      <td>2</td>\n",
       "      <td>2018-07-31 23:45:00</td>\n",
       "      <td>69.94850</td>\n",
       "    </tr>\n",
       "    <tr>\n",
       "      <td>3</td>\n",
       "      <td>2018-07-31 23:40:00</td>\n",
       "      <td>74.04497</td>\n",
       "    </tr>\n",
       "    <tr>\n",
       "      <td>4</td>\n",
       "      <td>2018-07-31 23:35:00</td>\n",
       "      <td>76.44245</td>\n",
       "    </tr>\n",
       "    <tr>\n",
       "      <td>5</td>\n",
       "      <td>2018-07-31 23:30:00</td>\n",
       "      <td>72.13931</td>\n",
       "    </tr>\n",
       "    <tr>\n",
       "      <td>6</td>\n",
       "      <td>2018-07-31 23:25:00</td>\n",
       "      <td>52.82719</td>\n",
       "    </tr>\n",
       "    <tr>\n",
       "      <td>7</td>\n",
       "      <td>2018-07-31 23:20:00</td>\n",
       "      <td>45.83206</td>\n",
       "    </tr>\n",
       "    <tr>\n",
       "      <td>8</td>\n",
       "      <td>2018-07-31 23:15:00</td>\n",
       "      <td>47.00597</td>\n",
       "    </tr>\n",
       "    <tr>\n",
       "      <td>9</td>\n",
       "      <td>2018-07-31 23:10:00</td>\n",
       "      <td>50.88122</td>\n",
       "    </tr>\n",
       "    <tr>\n",
       "      <td>10</td>\n",
       "      <td>2018-07-31 23:05:00</td>\n",
       "      <td>51.56545</td>\n",
       "    </tr>\n",
       "    <tr>\n",
       "      <td>11</td>\n",
       "      <td>2018-07-31 23:00:00</td>\n",
       "      <td>51.05147</td>\n",
       "    </tr>\n",
       "    <tr>\n",
       "      <td>12</td>\n",
       "      <td>2018-07-31 22:55:00</td>\n",
       "      <td>69.02186</td>\n",
       "    </tr>\n",
       "    <tr>\n",
       "      <td>13</td>\n",
       "      <td>2018-07-31 22:50:00</td>\n",
       "      <td>78.69000</td>\n",
       "    </tr>\n",
       "    <tr>\n",
       "      <td>14</td>\n",
       "      <td>2018-07-31 22:45:00</td>\n",
       "      <td>78.69000</td>\n",
       "    </tr>\n",
       "    <tr>\n",
       "      <td>15</td>\n",
       "      <td>2018-07-31 22:40:00</td>\n",
       "      <td>75.36337</td>\n",
       "    </tr>\n",
       "    <tr>\n",
       "      <td>16</td>\n",
       "      <td>2018-07-31 22:35:00</td>\n",
       "      <td>78.69000</td>\n",
       "    </tr>\n",
       "    <tr>\n",
       "      <td>17</td>\n",
       "      <td>2018-07-31 22:30:00</td>\n",
       "      <td>78.69000</td>\n",
       "    </tr>\n",
       "    <tr>\n",
       "      <td>18</td>\n",
       "      <td>2018-07-31 22:25:00</td>\n",
       "      <td>78.69000</td>\n",
       "    </tr>\n",
       "    <tr>\n",
       "      <td>19</td>\n",
       "      <td>2018-07-31 22:20:00</td>\n",
       "      <td>79.30359</td>\n",
       "    </tr>\n",
       "  </tbody>\n",
       "</table>\n",
       "</div>"
      ],
      "text/plain": [
       "              PeriodID     Price\n",
       "0  2018-07-31 23:55:00  70.70204\n",
       "1  2018-07-31 23:50:00  69.24109\n",
       "2  2018-07-31 23:45:00  69.94850\n",
       "3  2018-07-31 23:40:00  74.04497\n",
       "4  2018-07-31 23:35:00  76.44245\n",
       "5  2018-07-31 23:30:00  72.13931\n",
       "6  2018-07-31 23:25:00  52.82719\n",
       "7  2018-07-31 23:20:00  45.83206\n",
       "8  2018-07-31 23:15:00  47.00597\n",
       "9  2018-07-31 23:10:00  50.88122\n",
       "10 2018-07-31 23:05:00  51.56545\n",
       "11 2018-07-31 23:00:00  51.05147\n",
       "12 2018-07-31 22:55:00  69.02186\n",
       "13 2018-07-31 22:50:00  78.69000\n",
       "14 2018-07-31 22:45:00  78.69000\n",
       "15 2018-07-31 22:40:00  75.36337\n",
       "16 2018-07-31 22:35:00  78.69000\n",
       "17 2018-07-31 22:30:00  78.69000\n",
       "18 2018-07-31 22:25:00  78.69000\n",
       "19 2018-07-31 22:20:00  79.30359"
      ]
     },
     "execution_count": 117,
     "metadata": {},
     "output_type": "execute_result"
    }
   ],
   "source": [
    "df_grouped_price = pd.read_pickle('{}/nem-data/nemde_clean/df_grouped_price.pkl'.format(os.environ['HOME']))\n",
    "df_grouped_price = df_grouped_price.reset_index()\n",
    "df_grouped_price.head(20)"
   ]
  },
  {
   "cell_type": "code",
   "execution_count": 143,
   "metadata": {},
   "outputs": [
    {
     "data": {
      "text/html": [
       "<div>\n",
       "<style scoped>\n",
       "    .dataframe tbody tr th:only-of-type {\n",
       "        vertical-align: middle;\n",
       "    }\n",
       "\n",
       "    .dataframe tbody tr th {\n",
       "        vertical-align: top;\n",
       "    }\n",
       "\n",
       "    .dataframe thead th {\n",
       "        text-align: right;\n",
       "    }\n",
       "</style>\n",
       "<table border=\"1\" class=\"dataframe\">\n",
       "  <thead>\n",
       "    <tr style=\"text-align: right;\">\n",
       "      <th></th>\n",
       "      <th>PeriodID</th>\n",
       "      <th>Price</th>\n",
       "    </tr>\n",
       "  </thead>\n",
       "  <tbody>\n",
       "    <tr>\n",
       "      <td>942958</td>\n",
       "      <td>2009-07-14 16:00:00</td>\n",
       "      <td>25.25274</td>\n",
       "    </tr>\n",
       "    <tr>\n",
       "      <td>942959</td>\n",
       "      <td>2009-07-14 15:55:00</td>\n",
       "      <td>32.69000</td>\n",
       "    </tr>\n",
       "    <tr>\n",
       "      <td>942960</td>\n",
       "      <td>2009-07-14 15:50:00</td>\n",
       "      <td>32.69000</td>\n",
       "    </tr>\n",
       "    <tr>\n",
       "      <td>942961</td>\n",
       "      <td>2009-07-14 15:45:00</td>\n",
       "      <td>31.11362</td>\n",
       "    </tr>\n",
       "    <tr>\n",
       "      <td>942962</td>\n",
       "      <td>2009-07-14 15:40:00</td>\n",
       "      <td>31.31720</td>\n",
       "    </tr>\n",
       "    <tr>\n",
       "      <td>...</td>\n",
       "      <td>...</td>\n",
       "      <td>...</td>\n",
       "    </tr>\n",
       "    <tr>\n",
       "      <td>946842</td>\n",
       "      <td>2009-07-01 04:20:00</td>\n",
       "      <td>1.75480</td>\n",
       "    </tr>\n",
       "    <tr>\n",
       "      <td>946843</td>\n",
       "      <td>2009-07-01 04:15:00</td>\n",
       "      <td>1.44014</td>\n",
       "    </tr>\n",
       "    <tr>\n",
       "      <td>946844</td>\n",
       "      <td>2009-07-01 04:10:00</td>\n",
       "      <td>-0.00006</td>\n",
       "    </tr>\n",
       "    <tr>\n",
       "      <td>946845</td>\n",
       "      <td>2009-07-01 04:05:00</td>\n",
       "      <td>-0.00006</td>\n",
       "    </tr>\n",
       "    <tr>\n",
       "      <td>946846</td>\n",
       "      <td>2009-07-01 04:00:00</td>\n",
       "      <td>1.35918</td>\n",
       "    </tr>\n",
       "  </tbody>\n",
       "</table>\n",
       "<p>3889 rows × 2 columns</p>\n",
       "</div>"
      ],
      "text/plain": [
       "                  PeriodID     Price\n",
       "942958 2009-07-14 16:00:00  25.25274\n",
       "942959 2009-07-14 15:55:00  32.69000\n",
       "942960 2009-07-14 15:50:00  32.69000\n",
       "942961 2009-07-14 15:45:00  31.11362\n",
       "942962 2009-07-14 15:40:00  31.31720\n",
       "...                    ...       ...\n",
       "946842 2009-07-01 04:20:00   1.75480\n",
       "946843 2009-07-01 04:15:00   1.44014\n",
       "946844 2009-07-01 04:10:00  -0.00006\n",
       "946845 2009-07-01 04:05:00  -0.00006\n",
       "946846 2009-07-01 04:00:00   1.35918\n",
       "\n",
       "[3889 rows x 2 columns]"
      ]
     },
     "execution_count": 143,
     "metadata": {},
     "output_type": "execute_result"
    }
   ],
   "source": [
    "dodgy = df_grouped_price[(df_grouped_price.PeriodID <= df_trading_price_corr[df_trading_price_corr.Summed_dispatch.isna()][\"PeriodID\"].max()) &\n",
    "                 (df_grouped_price.PeriodID >= df_trading_price_corr[df_trading_price_corr.Summed_dispatch.isna()][\"PeriodID\"].min())]\n",
    "dodgy"
   ]
  },
  {
   "cell_type": "code",
   "execution_count": 151,
   "metadata": {},
   "outputs": [
    {
     "data": {
      "text/html": [
       "<div>\n",
       "<style scoped>\n",
       "    .dataframe tbody tr th:only-of-type {\n",
       "        vertical-align: middle;\n",
       "    }\n",
       "\n",
       "    .dataframe tbody tr th {\n",
       "        vertical-align: top;\n",
       "    }\n",
       "\n",
       "    .dataframe thead th {\n",
       "        text-align: right;\n",
       "    }\n",
       "</style>\n",
       "<table border=\"1\" class=\"dataframe\">\n",
       "  <thead>\n",
       "    <tr style=\"text-align: right;\">\n",
       "      <th></th>\n",
       "      <th>Price</th>\n",
       "    </tr>\n",
       "    <tr>\n",
       "      <th>PeriodID</th>\n",
       "      <th></th>\n",
       "    </tr>\n",
       "  </thead>\n",
       "  <tbody>\n",
       "    <tr>\n",
       "      <td>2009-07-01</td>\n",
       "      <td>20.463798</td>\n",
       "    </tr>\n",
       "    <tr>\n",
       "      <td>2009-07-02</td>\n",
       "      <td>27.036960</td>\n",
       "    </tr>\n",
       "    <tr>\n",
       "      <td>2009-07-03</td>\n",
       "      <td>25.191636</td>\n",
       "    </tr>\n",
       "    <tr>\n",
       "      <td>2009-07-04</td>\n",
       "      <td>28.111905</td>\n",
       "    </tr>\n",
       "    <tr>\n",
       "      <td>2009-07-05</td>\n",
       "      <td>31.740115</td>\n",
       "    </tr>\n",
       "    <tr>\n",
       "      <td>2009-07-06</td>\n",
       "      <td>34.150252</td>\n",
       "    </tr>\n",
       "    <tr>\n",
       "      <td>2009-07-07</td>\n",
       "      <td>33.183796</td>\n",
       "    </tr>\n",
       "    <tr>\n",
       "      <td>2009-07-08</td>\n",
       "      <td>36.958959</td>\n",
       "    </tr>\n",
       "    <tr>\n",
       "      <td>2009-07-09</td>\n",
       "      <td>31.600491</td>\n",
       "    </tr>\n",
       "    <tr>\n",
       "      <td>2009-07-10</td>\n",
       "      <td>25.826306</td>\n",
       "    </tr>\n",
       "    <tr>\n",
       "      <td>2009-07-11</td>\n",
       "      <td>24.531500</td>\n",
       "    </tr>\n",
       "    <tr>\n",
       "      <td>2009-07-12</td>\n",
       "      <td>24.826654</td>\n",
       "    </tr>\n",
       "    <tr>\n",
       "      <td>2009-07-13</td>\n",
       "      <td>29.004596</td>\n",
       "    </tr>\n",
       "    <tr>\n",
       "      <td>2009-07-14</td>\n",
       "      <td>28.803321</td>\n",
       "    </tr>\n",
       "  </tbody>\n",
       "</table>\n",
       "</div>"
      ],
      "text/plain": [
       "                Price\n",
       "PeriodID             \n",
       "2009-07-01  20.463798\n",
       "2009-07-02  27.036960\n",
       "2009-07-03  25.191636\n",
       "2009-07-04  28.111905\n",
       "2009-07-05  31.740115\n",
       "2009-07-06  34.150252\n",
       "2009-07-07  33.183796\n",
       "2009-07-08  36.958959\n",
       "2009-07-09  31.600491\n",
       "2009-07-10  25.826306\n",
       "2009-07-11  24.531500\n",
       "2009-07-12  24.826654\n",
       "2009-07-13  29.004596\n",
       "2009-07-14  28.803321"
      ]
     },
     "execution_count": 151,
     "metadata": {},
     "output_type": "execute_result"
    }
   ],
   "source": [
    "dodgy.groupby([dodgy.PeriodID.dt.date]).mean()"
   ]
  },
  {
   "cell_type": "code",
   "execution_count": 118,
   "metadata": {},
   "outputs": [
    {
     "name": "stdout",
     "output_type": "stream",
     "text": [
      "<class 'pandas.core.frame.DataFrame'>\n",
      "RangeIndex: 946847 entries, 0 to 946846\n",
      "Data columns (total 2 columns):\n",
      "PeriodID    946847 non-null datetime64[ns]\n",
      "Price       946847 non-null float64\n",
      "dtypes: datetime64[ns](1), float64(1)\n",
      "memory usage: 14.4 MB\n"
     ]
    }
   ],
   "source": [
    "df_grouped_price.info()"
   ]
  },
  {
   "cell_type": "code",
   "execution_count": 119,
   "metadata": {},
   "outputs": [
    {
     "name": "stdout",
     "output_type": "stream",
     "text": [
      "2018-07-31 23:55:00\n",
      "2009-07-01 04:00:00\n"
     ]
    }
   ],
   "source": [
    "print(df_grouped_price.PeriodID.max())\n",
    "print(df_grouped_price.PeriodID.min())"
   ]
  },
  {
   "cell_type": "code",
   "execution_count": 120,
   "metadata": {},
   "outputs": [
    {
     "data": {
      "text/html": [
       "<div>\n",
       "<style scoped>\n",
       "    .dataframe tbody tr th:only-of-type {\n",
       "        vertical-align: middle;\n",
       "    }\n",
       "\n",
       "    .dataframe tbody tr th {\n",
       "        vertical-align: top;\n",
       "    }\n",
       "\n",
       "    .dataframe thead th {\n",
       "        text-align: right;\n",
       "    }\n",
       "</style>\n",
       "<table border=\"1\" class=\"dataframe\">\n",
       "  <thead>\n",
       "    <tr style=\"text-align: right;\">\n",
       "      <th></th>\n",
       "      <th>PeriodID</th>\n",
       "      <th>Trading_price</th>\n",
       "    </tr>\n",
       "  </thead>\n",
       "  <tbody>\n",
       "    <tr>\n",
       "      <td>0</td>\n",
       "      <td>2018-07-31 23:30:00</td>\n",
       "      <td>72.09</td>\n",
       "    </tr>\n",
       "    <tr>\n",
       "      <td>1</td>\n",
       "      <td>2018-07-31 23:00:00</td>\n",
       "      <td>49.86</td>\n",
       "    </tr>\n",
       "    <tr>\n",
       "      <td>2</td>\n",
       "      <td>2018-07-31 22:30:00</td>\n",
       "      <td>76.52</td>\n",
       "    </tr>\n",
       "    <tr>\n",
       "      <td>3</td>\n",
       "      <td>2018-07-31 22:00:00</td>\n",
       "      <td>81.66</td>\n",
       "    </tr>\n",
       "    <tr>\n",
       "      <td>4</td>\n",
       "      <td>2018-07-31 21:30:00</td>\n",
       "      <td>83.25</td>\n",
       "    </tr>\n",
       "  </tbody>\n",
       "</table>\n",
       "</div>"
      ],
      "text/plain": [
       "             PeriodID  Trading_price\n",
       "0 2018-07-31 23:30:00          72.09\n",
       "1 2018-07-31 23:00:00          49.86\n",
       "2 2018-07-31 22:30:00          76.52\n",
       "3 2018-07-31 22:00:00          81.66\n",
       "4 2018-07-31 21:30:00          83.25"
      ]
     },
     "execution_count": 120,
     "metadata": {},
     "output_type": "execute_result"
    }
   ],
   "source": [
    "df_trading_price = pd.read_csv('/home/bastian/nem-data/clean/trading_price.csv', index_col=0, parse_dates=True)\n",
    "df_trading_price.sort_index(ascending=False, inplace=True)\n",
    "df_trading_price = df_trading_price.loc[:, [\"RRP SA1\"]]\n",
    "df_trading_price = df_trading_price[(df_trading_price.index <= df_grouped_price.PeriodID.max()) &\n",
    "                                   (df_trading_price.index >= df_grouped_price.PeriodID.min())]\n",
    "df_trading_price = df_trading_price.reset_index()\n",
    "df_trading_price = df_trading_price.rename(columns={\"tempus_interval_time\":\"PeriodID\",\"RRP SA1\":\"Trading_price\"})\n",
    "\n",
    "df_trading_price.head()"
   ]
  },
  {
   "cell_type": "code",
   "execution_count": 121,
   "metadata": {},
   "outputs": [
    {
     "name": "stdout",
     "output_type": "stream",
     "text": [
      "159256\n",
      "2018-07-31 23:30:00\n",
      "2009-07-01 04:00:00\n"
     ]
    }
   ],
   "source": [
    "print(len(df_trading_price))\n",
    "print(df_trading_price.PeriodID.max())\n",
    "print(df_trading_price.PeriodID.min())"
   ]
  },
  {
   "cell_type": "code",
   "execution_count": 123,
   "metadata": {},
   "outputs": [
    {
     "name": "stdout",
     "output_type": "stream",
     "text": [
      "789043\n"
     ]
    },
    {
     "data": {
      "text/html": [
       "<div>\n",
       "<style scoped>\n",
       "    .dataframe tbody tr th:only-of-type {\n",
       "        vertical-align: middle;\n",
       "    }\n",
       "\n",
       "    .dataframe tbody tr th {\n",
       "        vertical-align: top;\n",
       "    }\n",
       "\n",
       "    .dataframe thead th {\n",
       "        text-align: right;\n",
       "    }\n",
       "</style>\n",
       "<table border=\"1\" class=\"dataframe\">\n",
       "  <thead>\n",
       "    <tr style=\"text-align: right;\">\n",
       "      <th></th>\n",
       "      <th>PeriodID</th>\n",
       "      <th>Dispatch_price</th>\n",
       "      <th>Trading_price</th>\n",
       "    </tr>\n",
       "  </thead>\n",
       "  <tbody>\n",
       "    <tr>\n",
       "      <td>0</td>\n",
       "      <td>2018-07-31 23:55:00</td>\n",
       "      <td>70.70204</td>\n",
       "      <td>NaN</td>\n",
       "    </tr>\n",
       "    <tr>\n",
       "      <td>1</td>\n",
       "      <td>2018-07-31 23:50:00</td>\n",
       "      <td>69.24109</td>\n",
       "      <td>NaN</td>\n",
       "    </tr>\n",
       "    <tr>\n",
       "      <td>2</td>\n",
       "      <td>2018-07-31 23:45:00</td>\n",
       "      <td>69.94850</td>\n",
       "      <td>NaN</td>\n",
       "    </tr>\n",
       "    <tr>\n",
       "      <td>3</td>\n",
       "      <td>2018-07-31 23:40:00</td>\n",
       "      <td>74.04497</td>\n",
       "      <td>NaN</td>\n",
       "    </tr>\n",
       "    <tr>\n",
       "      <td>4</td>\n",
       "      <td>2018-07-31 23:35:00</td>\n",
       "      <td>76.44245</td>\n",
       "      <td>NaN</td>\n",
       "    </tr>\n",
       "  </tbody>\n",
       "</table>\n",
       "</div>"
      ],
      "text/plain": [
       "             PeriodID  Dispatch_price  Trading_price\n",
       "0 2018-07-31 23:55:00        70.70204            NaN\n",
       "1 2018-07-31 23:50:00        69.24109            NaN\n",
       "2 2018-07-31 23:45:00        69.94850            NaN\n",
       "3 2018-07-31 23:40:00        74.04497            NaN\n",
       "4 2018-07-31 23:35:00        76.44245            NaN"
      ]
     },
     "execution_count": 123,
     "metadata": {},
     "output_type": "execute_result"
    }
   ],
   "source": [
    "df_trading_dispatch = df_grouped_price.merge(df_trading_price, how='left', on=\"PeriodID\")\n",
    "df_trading_dispatch = df_trading_dispatch.rename(columns={\"Price\":\"Dispatch_price\",\"RRP SA1\":\"Trading_price\"})\n",
    "df_trading_dispatch.head(20)\n",
    "print(sum(df_trading_dispatch.Trading_price.isna()))\n",
    "df_trading_dispatch.head()\n",
    "#df_trading_dispatch = df_trading_dispatch[]"
   ]
  },
  {
   "cell_type": "code",
   "execution_count": 280,
   "metadata": {},
   "outputs": [
    {
     "data": {
      "text/html": [
       "<div>\n",
       "<style scoped>\n",
       "    .dataframe tbody tr th:only-of-type {\n",
       "        vertical-align: middle;\n",
       "    }\n",
       "\n",
       "    .dataframe tbody tr th {\n",
       "        vertical-align: top;\n",
       "    }\n",
       "\n",
       "    .dataframe thead th {\n",
       "        text-align: right;\n",
       "    }\n",
       "</style>\n",
       "<table border=\"1\" class=\"dataframe\">\n",
       "  <thead>\n",
       "    <tr style=\"text-align: right;\">\n",
       "      <th></th>\n",
       "      <th>PeriodID</th>\n",
       "      <th>Trading_price</th>\n",
       "    </tr>\n",
       "  </thead>\n",
       "  <tbody>\n",
       "    <tr>\n",
       "      <td>1479</td>\n",
       "      <td>2018-07-01 04:00:00</td>\n",
       "      <td>78.96</td>\n",
       "    </tr>\n",
       "    <tr>\n",
       "      <td>1480</td>\n",
       "      <td>2018-06-01 03:30:00</td>\n",
       "      <td>55.00</td>\n",
       "    </tr>\n",
       "    <tr>\n",
       "      <td>1481</td>\n",
       "      <td>2018-06-01 03:00:00</td>\n",
       "      <td>55.66</td>\n",
       "    </tr>\n",
       "    <tr>\n",
       "      <td>1482</td>\n",
       "      <td>2018-06-01 02:30:00</td>\n",
       "      <td>57.77</td>\n",
       "    </tr>\n",
       "    <tr>\n",
       "      <td>1483</td>\n",
       "      <td>2018-06-01 02:00:00</td>\n",
       "      <td>61.54</td>\n",
       "    </tr>\n",
       "  </tbody>\n",
       "</table>\n",
       "</div>"
      ],
      "text/plain": [
       "                PeriodID  Trading_price\n",
       "1479 2018-07-01 04:00:00          78.96\n",
       "1480 2018-06-01 03:30:00          55.00\n",
       "1481 2018-06-01 03:00:00          55.66\n",
       "1482 2018-06-01 02:30:00          57.77\n",
       "1483 2018-06-01 02:00:00          61.54"
      ]
     },
     "execution_count": 280,
     "metadata": {},
     "output_type": "execute_result"
    }
   ],
   "source": [
    "df_trading_price_corr = df_trading_dispatch[~df_trading_dispatch.Trading_price.isna()].drop(columns=\"Dispatch_price\").reset_index(drop=True)\n",
    "df_trading_price_corr.iloc[1479:1484]"
   ]
  },
  {
   "cell_type": "code",
   "execution_count": 188,
   "metadata": {},
   "outputs": [
    {
     "name": "stdout",
     "output_type": "stream",
     "text": [
      "1 1800.0\n",
      "2 1800.0\n",
      "3 1800.0\n",
      "4 1800.0\n",
      "5 1800.0\n",
      "6 1800.0\n"
     ]
    }
   ],
   "source": [
    "count = 0\n",
    "for i,j in df_trading_price_corr.PeriodID[1:].iteritems():\n",
    "    count += 1\n",
    "    delta = abs(df_trading_price_corr.PeriodID[i] - df_trading_price_corr.PeriodID[i-1])\n",
    "    print(i,delta.total_seconds())\n",
    "    if count > 5:\n",
    "        break"
   ]
  },
  {
   "cell_type": "code",
   "execution_count": 277,
   "metadata": {},
   "outputs": [],
   "source": [
    "def correct_timedelta(table,col,time_diff):\n",
    "    '''\n",
    "    table=table_of_interest\n",
    "    col=\"column_of_interest\"\n",
    "    time_diff=time_diff in seconds as int\n",
    "    '''\n",
    "    lst = []\n",
    "    lst_i = []\n",
    "    for i,j in table[col][1:].iteritems():\n",
    "        delta = abs(table[col][i] - table[col][i-1])\n",
    "        if int(delta.total_seconds()) != int(time_diff):\n",
    "            lst.append((\"from index {} on, it has been {} s or {} h.\".format(i-1,int(delta.total_seconds()),(int(delta.total_seconds()/3600)))))\n",
    "            lst_i.append((i-1,int(delta.total_seconds())))\n",
    "    return lst, lst_i"
   ]
  },
  {
   "cell_type": "code",
   "execution_count": 278,
   "metadata": {},
   "outputs": [],
   "source": [
    "check, indices = correct_timedelta(df_trading_price_corr,\"PeriodID\",1800)"
   ]
  },
  {
   "cell_type": "code",
   "execution_count": 279,
   "metadata": {},
   "outputs": [
    {
     "name": "stdout",
     "output_type": "stream",
     "text": [
      "[(1479, 2593800), (28863, 3600), (29968, 3600), (29973, 3600), (29976, 3600), (32732, 3600), (32875, 3600), (42737, 3600), (85886, 3600), (144752, 3600), (154733, 3600), (155426, 3600), (155548, 3600)]\n"
     ]
    },
    {
     "data": {
      "text/plain": [
       "['from index 1479 on, it has been 2593800 s or 720 h.',\n",
       " 'from index 28863 on, it has been 3600 s or 1 h.',\n",
       " 'from index 29968 on, it has been 3600 s or 1 h.',\n",
       " 'from index 29973 on, it has been 3600 s or 1 h.',\n",
       " 'from index 29976 on, it has been 3600 s or 1 h.',\n",
       " 'from index 32732 on, it has been 3600 s or 1 h.',\n",
       " 'from index 32875 on, it has been 3600 s or 1 h.',\n",
       " 'from index 42737 on, it has been 3600 s or 1 h.',\n",
       " 'from index 85886 on, it has been 3600 s or 1 h.',\n",
       " 'from index 144752 on, it has been 3600 s or 1 h.',\n",
       " 'from index 154733 on, it has been 3600 s or 1 h.',\n",
       " 'from index 155426 on, it has been 3600 s or 1 h.',\n",
       " 'from index 155548 on, it has been 3600 s or 1 h.']"
      ]
     },
     "execution_count": 279,
     "metadata": {},
     "output_type": "execute_result"
    }
   ],
   "source": [
    "print(indices)\n",
    "check"
   ]
  },
  {
   "cell_type": "code",
   "execution_count": 281,
   "metadata": {},
   "outputs": [],
   "source": [
    "check, indices = correct_timedelta(df_grouped_price,\"PeriodID\",300)"
   ]
  },
  {
   "cell_type": "code",
   "execution_count": 285,
   "metadata": {},
   "outputs": [
    {
     "name": "stdout",
     "output_type": "stream",
     "text": [
      "[(8879, 2592300), (23741, 600), (28750, 600), (75753, 600), (76916, 600), (173184, 600), (179819, 600), (179831, 600), (179849, 600), (179852, 600), (179858, 600), (179870, 600), (179873, 1200), (179892, 600), (190312, 600), (190316, 600), (190362, 600), (196113, 600), (196404, 900), (196405, 600), (197229, 600), (197232, 600), (197266, 600), (201290, 600), (239428, 600), (256441, 600), (490105, 600), (515339, 1500), (793820, 600), (794497, 600), (818962, 600), (868534, 600), (887404, 600), (925535, 600), (925538, 600), (928129, 600), (928146, 600), (928152, 600), (928416, 600), (928418, 600), (928697, 600), (932580, 600), (933317, 600), (933323, 600)]\n"
     ]
    },
    {
     "data": {
      "text/plain": [
       "['from index 8879 on, it has been 2592300 s or 720 h.',\n",
       " 'from index 23741 on, it has been 600 s or 0 h.',\n",
       " 'from index 28750 on, it has been 600 s or 0 h.',\n",
       " 'from index 75753 on, it has been 600 s or 0 h.',\n",
       " 'from index 76916 on, it has been 600 s or 0 h.',\n",
       " 'from index 173184 on, it has been 600 s or 0 h.',\n",
       " 'from index 179819 on, it has been 600 s or 0 h.',\n",
       " 'from index 179831 on, it has been 600 s or 0 h.',\n",
       " 'from index 179849 on, it has been 600 s or 0 h.',\n",
       " 'from index 179852 on, it has been 600 s or 0 h.',\n",
       " 'from index 179858 on, it has been 600 s or 0 h.',\n",
       " 'from index 179870 on, it has been 600 s or 0 h.',\n",
       " 'from index 179873 on, it has been 1200 s or 0 h.',\n",
       " 'from index 179892 on, it has been 600 s or 0 h.',\n",
       " 'from index 190312 on, it has been 600 s or 0 h.',\n",
       " 'from index 190316 on, it has been 600 s or 0 h.',\n",
       " 'from index 190362 on, it has been 600 s or 0 h.',\n",
       " 'from index 196113 on, it has been 600 s or 0 h.',\n",
       " 'from index 196404 on, it has been 900 s or 0 h.',\n",
       " 'from index 196405 on, it has been 600 s or 0 h.',\n",
       " 'from index 197229 on, it has been 600 s or 0 h.',\n",
       " 'from index 197232 on, it has been 600 s or 0 h.',\n",
       " 'from index 197266 on, it has been 600 s or 0 h.',\n",
       " 'from index 201290 on, it has been 600 s or 0 h.',\n",
       " 'from index 239428 on, it has been 600 s or 0 h.',\n",
       " 'from index 256441 on, it has been 600 s or 0 h.',\n",
       " 'from index 490105 on, it has been 600 s or 0 h.',\n",
       " 'from index 515339 on, it has been 1500 s or 0 h.',\n",
       " 'from index 793820 on, it has been 600 s or 0 h.',\n",
       " 'from index 794497 on, it has been 600 s or 0 h.',\n",
       " 'from index 818962 on, it has been 600 s or 0 h.',\n",
       " 'from index 868534 on, it has been 600 s or 0 h.',\n",
       " 'from index 887404 on, it has been 600 s or 0 h.',\n",
       " 'from index 925535 on, it has been 600 s or 0 h.',\n",
       " 'from index 925538 on, it has been 600 s or 0 h.',\n",
       " 'from index 928129 on, it has been 600 s or 0 h.',\n",
       " 'from index 928146 on, it has been 600 s or 0 h.',\n",
       " 'from index 928152 on, it has been 600 s or 0 h.',\n",
       " 'from index 928416 on, it has been 600 s or 0 h.',\n",
       " 'from index 928418 on, it has been 600 s or 0 h.',\n",
       " 'from index 928697 on, it has been 600 s or 0 h.',\n",
       " 'from index 932580 on, it has been 600 s or 0 h.',\n",
       " 'from index 933317 on, it has been 600 s or 0 h.',\n",
       " 'from index 933323 on, it has been 600 s or 0 h.']"
      ]
     },
     "execution_count": 285,
     "metadata": {},
     "output_type": "execute_result"
    }
   ],
   "source": [
    "print(indices)\n",
    "check"
   ]
  },
  {
   "cell_type": "code",
   "execution_count": 240,
   "metadata": {},
   "outputs": [
    {
     "name": "stdout",
     "output_type": "stream",
     "text": [
      "13\n"
     ]
    }
   ],
   "source": [
    "count=0\n",
    "for i in check:\n",
    "    if i != 1800:\n",
    "        count+=1\n",
    "print(count)"
   ]
  },
  {
   "cell_type": "code",
   "execution_count": 236,
   "metadata": {},
   "outputs": [
    {
     "name": "stdout",
     "output_type": "stream",
     "text": [
      "{1800, 2593800, 3600}\n"
     ]
    }
   ],
   "source": [
    "myset = set(check)\n",
    "print(myset)"
   ]
  },
  {
   "cell_type": "code",
   "execution_count": 178,
   "metadata": {},
   "outputs": [
    {
     "data": {
      "text/plain": [
       "72.09"
      ]
     },
     "execution_count": 178,
     "metadata": {},
     "output_type": "execute_result"
    }
   ],
   "source": [
    "df_trading_price_corr.loc[:,\"Trading_price\"].iloc[i]"
   ]
  },
  {
   "cell_type": "code",
   "execution_count": 163,
   "metadata": {},
   "outputs": [
    {
     "data": {
      "text/plain": [
       "1800.0"
      ]
     },
     "execution_count": 163,
     "metadata": {},
     "output_type": "execute_result"
    }
   ],
   "source": [
    "d = df_trading_price_corr.PeriodID[0] - df_trading_price_corr.PeriodID[1]\n",
    "d.total_seconds()"
   ]
  },
  {
   "cell_type": "code",
   "execution_count": 131,
   "metadata": {},
   "outputs": [
    {
     "name": "stdout",
     "output_type": "stream",
     "text": [
      "2018-07-31 23:30:00\n",
      "2009-07-01 04:00:00\n"
     ]
    }
   ],
   "source": [
    "print(df_trading_price_corr.PeriodID.max())\n",
    "print(df_trading_price_corr.PeriodID.min())"
   ]
  },
  {
   "cell_type": "code",
   "execution_count": 132,
   "metadata": {},
   "outputs": [
    {
     "name": "stdout",
     "output_type": "stream",
     "text": [
      "<class 'pandas.core.frame.DataFrame'>\n",
      "RangeIndex: 157804 entries, 0 to 157803\n",
      "Data columns (total 2 columns):\n",
      "PeriodID         157804 non-null datetime64[ns]\n",
      "Trading_price    157804 non-null float64\n",
      "dtypes: datetime64[ns](1), float64(1)\n",
      "memory usage: 2.4 MB\n"
     ]
    }
   ],
   "source": [
    "df_trading_price_corr.info()"
   ]
  },
  {
   "cell_type": "code",
   "execution_count": 174,
   "metadata": {},
   "outputs": [
    {
     "data": {
      "text/html": [
       "<div>\n",
       "<style scoped>\n",
       "    .dataframe tbody tr th:only-of-type {\n",
       "        vertical-align: middle;\n",
       "    }\n",
       "\n",
       "    .dataframe tbody tr th {\n",
       "        vertical-align: top;\n",
       "    }\n",
       "\n",
       "    .dataframe thead th {\n",
       "        text-align: right;\n",
       "    }\n",
       "</style>\n",
       "<table border=\"1\" class=\"dataframe\">\n",
       "  <thead>\n",
       "    <tr style=\"text-align: right;\">\n",
       "      <th></th>\n",
       "      <th>Dispatch_price</th>\n",
       "    </tr>\n",
       "  </thead>\n",
       "  <tbody>\n",
       "    <tr>\n",
       "      <td>mean</td>\n",
       "      <td>72.07581</td>\n",
       "    </tr>\n",
       "    <tr>\n",
       "      <td>max</td>\n",
       "      <td>76.44245</td>\n",
       "    </tr>\n",
       "    <tr>\n",
       "      <td>min</td>\n",
       "      <td>69.24109</td>\n",
       "    </tr>\n",
       "  </tbody>\n",
       "</table>\n",
       "</div>"
      ],
      "text/plain": [
       "      Dispatch_price\n",
       "mean        72.07581\n",
       "max         76.44245\n",
       "min         69.24109"
      ]
     },
     "execution_count": 174,
     "metadata": {},
     "output_type": "execute_result"
    }
   ],
   "source": [
    "df_trading_dispatch.loc[:,[\"Dispatch_price\"]].iloc[:5,:].agg(['mean', 'max','min'])"
   ]
  },
  {
   "cell_type": "code",
   "execution_count": 153,
   "metadata": {},
   "outputs": [],
   "source": [
    "bin_column = df_grouped_price.loc[:,\"Price\"]\n",
    "bin_size = 6\n",
    "bin_sums = []\n",
    "#count=0\n",
    "for i in df_grouped_price.index[:df_grouped_price.shape[0]:bin_size]:\n",
    "    #count+=1\n",
    "    j = i + bin_size\n",
    "    bin_sum = sum(bin_column.iloc[i:j])/6\n",
    "    #print(i,j)\n",
    "    #print(bin_column.iloc[i:j])\n",
    "    #print(sum(bin_column.iloc[i:j]))\n",
    "    #print(sum(bin_column.iloc[i:j])/6)\n",
    "    bin_sums.append(bin_sum)\n",
    "    #if count > 5:\n",
    "    #    break"
   ]
  },
  {
   "cell_type": "code",
   "execution_count": 154,
   "metadata": {},
   "outputs": [
    {
     "data": {
      "text/plain": [
       "157808"
      ]
     },
     "execution_count": 154,
     "metadata": {},
     "output_type": "execute_result"
    }
   ],
   "source": [
    "len(bin_sums) #make assert bin_sums == bla / 6 == len(df_trading_price)"
   ]
  },
  {
   "cell_type": "code",
   "execution_count": 155,
   "metadata": {},
   "outputs": [
    {
     "name": "stdout",
     "output_type": "stream",
     "text": [
      "0\n",
      "NaT\n",
      "NaT\n"
     ]
    },
    {
     "data": {
      "text/html": [
       "<div>\n",
       "<style scoped>\n",
       "    .dataframe tbody tr th:only-of-type {\n",
       "        vertical-align: middle;\n",
       "    }\n",
       "\n",
       "    .dataframe tbody tr th {\n",
       "        vertical-align: top;\n",
       "    }\n",
       "\n",
       "    .dataframe thead th {\n",
       "        text-align: right;\n",
       "    }\n",
       "</style>\n",
       "<table border=\"1\" class=\"dataframe\">\n",
       "  <thead>\n",
       "    <tr style=\"text-align: right;\">\n",
       "      <th></th>\n",
       "      <th>PeriodID</th>\n",
       "      <th>Trading_price</th>\n",
       "      <th>Summed_dispatch</th>\n",
       "    </tr>\n",
       "  </thead>\n",
       "  <tbody>\n",
       "    <tr>\n",
       "      <td>0</td>\n",
       "      <td>2018-07-31 23:30:00</td>\n",
       "      <td>72.09</td>\n",
       "      <td>72.086393</td>\n",
       "    </tr>\n",
       "    <tr>\n",
       "      <td>1</td>\n",
       "      <td>2018-07-31 23:00:00</td>\n",
       "      <td>49.86</td>\n",
       "      <td>49.860560</td>\n",
       "    </tr>\n",
       "    <tr>\n",
       "      <td>2</td>\n",
       "      <td>2018-07-31 22:30:00</td>\n",
       "      <td>76.52</td>\n",
       "      <td>76.524205</td>\n",
       "    </tr>\n",
       "    <tr>\n",
       "      <td>3</td>\n",
       "      <td>2018-07-31 22:00:00</td>\n",
       "      <td>81.66</td>\n",
       "      <td>81.655690</td>\n",
       "    </tr>\n",
       "    <tr>\n",
       "      <td>4</td>\n",
       "      <td>2018-07-31 21:30:00</td>\n",
       "      <td>83.25</td>\n",
       "      <td>83.248513</td>\n",
       "    </tr>\n",
       "  </tbody>\n",
       "</table>\n",
       "</div>"
      ],
      "text/plain": [
       "             PeriodID  Trading_price  Summed_dispatch\n",
       "0 2018-07-31 23:30:00          72.09        72.086393\n",
       "1 2018-07-31 23:00:00          49.86        49.860560\n",
       "2 2018-07-31 22:30:00          76.52        76.524205\n",
       "3 2018-07-31 22:00:00          81.66        81.655690\n",
       "4 2018-07-31 21:30:00          83.25        83.248513"
      ]
     },
     "execution_count": 155,
     "metadata": {},
     "output_type": "execute_result"
    }
   ],
   "source": [
    "df_trading_price_corr[\"Summed_dispatch\"] = pd.DataFrame(data=bin_sums)\n",
    "print(len(df_trading_price_corr[df_trading_price_corr.Summed_dispatch.isna()]))\n",
    "print(df_trading_price_corr[df_trading_price_corr.Summed_dispatch.isna()][\"PeriodID\"].max())\n",
    "print(df_trading_price_corr[df_trading_price_corr.Summed_dispatch.isna()][\"PeriodID\"].min())\n",
    "df_trading_price_corr.head()\n",
    "\n",
    "#assert!!!"
   ]
  },
  {
   "cell_type": "code",
   "execution_count": 60,
   "metadata": {},
   "outputs": [
    {
     "name": "stdout",
     "output_type": "stream",
     "text": [
      "0 5\n",
      "360.37905\n",
      "6 11\n",
      "248.11188999999996\n",
      "12 17\n",
      "380.45523\n",
      "18 23\n",
      "407.37278999999995\n",
      "24 29\n",
      "414.49107000000004\n"
     ]
    }
   ],
   "source": [
    "bla = []\n",
    "for i in pommes.index[0:33:6]:\n",
    "    j = i + 5\n",
    "    print(i,j)\n",
    "    k = sum(df_trading_dispatch.loc[:,\"Dispatch_price\"].iloc[i:j])\n",
    "    print(k)\n",
    "    bla.append(k)"
   ]
  },
  {
   "cell_type": "code",
   "execution_count": null,
   "metadata": {},
   "outputs": [],
   "source": []
  },
  {
   "cell_type": "code",
   "execution_count": 12,
   "metadata": {},
   "outputs": [
    {
     "name": "stdout",
     "output_type": "stream",
     "text": [
      "1\n",
      "70.70204\n",
      "70.70204\n",
      "2\n",
      "69.24109\n",
      "139.94313\n",
      "3\n",
      "69.9485\n",
      "209.89163\n",
      "4\n",
      "74.04497\n",
      "283.9366\n",
      "5\n",
      "76.44245\n",
      "360.37905\n",
      "6\n",
      "72.13931000000001\n",
      "432.51836000000003\n",
      "7\n",
      "52.82718999999998\n",
      "485.34555\n",
      "8\n",
      "45.832060000000006\n",
      "531.17761\n",
      "9\n",
      "47.00597\n",
      "578.18358\n",
      "10\n",
      "50.88122\n",
      "629.0648\n"
     ]
    }
   ],
   "source": [
    "bucket_size = 5\n",
    "count = 0\n",
    "j_sum = 0\n",
    "for i,j in pommes.iteritems():\n",
    "    count += 1\n",
    "    for k in range\n",
    "    j_sum += j\n",
    "    print(j_sum)"
   ]
  },
  {
   "cell_type": "code",
   "execution_count": 42,
   "metadata": {},
   "outputs": [
    {
     "data": {
      "text/plain": [
       "Timestamp('2018-07-31 21:30:00')"
      ]
     },
     "execution_count": 42,
     "metadata": {},
     "output_type": "execute_result"
    }
   ],
   "source": [
    "df_trading_dispatch.index[4]"
   ]
  },
  {
   "cell_type": "code",
   "execution_count": 51,
   "metadata": {},
   "outputs": [],
   "source": [
    "file = '{}/nem-data/nemde_clean/concat_for_energy_SA1'.format(os.environ['HOME'])\n",
    "meh = pd.read_pickle(file)"
   ]
  },
  {
   "cell_type": "code",
   "execution_count": 53,
   "metadata": {},
   "outputs": [
    {
     "data": {
      "text/plain": [
       "dtype('O')"
      ]
     },
     "execution_count": 53,
     "metadata": {},
     "output_type": "execute_result"
    }
   ],
   "source": []
  },
  {
   "cell_type": "code",
   "execution_count": 54,
   "metadata": {},
   "outputs": [],
   "source": [
    "meh.set_index(\"PeriodID\", inplace=True)\n",
    "meh.index = pd.to_datetime(meh.index)"
   ]
  },
  {
   "cell_type": "code",
   "execution_count": 60,
   "metadata": {},
   "outputs": [
    {
     "data": {
      "text/plain": [
       "DatetimeIndex(['2015-06-23 08:40:00+05:00', '2015-06-23 08:40:00+05:00',\n",
       "               '2015-06-23 08:40:00+05:00', '2015-06-23 08:40:00+05:00',\n",
       "               '2015-06-23 10:00:00+05:00', '2015-06-23 10:00:00+05:00',\n",
       "               '2015-06-23 10:00:00+05:00', '2015-06-23 10:00:00+05:00',\n",
       "               '2015-06-23 10:00:00+05:00', '2015-06-23 10:00:00+05:00',\n",
       "               ...\n",
       "               '2012-01-11 20:25:00+05:00', '2012-01-11 20:25:00+05:00',\n",
       "               '2012-01-11 20:25:00+05:00', '2012-01-11 20:25:00+05:00',\n",
       "               '2012-01-11 07:45:00+05:00', '2012-01-11 07:45:00+05:00',\n",
       "               '2012-01-11 07:45:00+05:00', '2012-01-11 07:45:00+05:00',\n",
       "               '2012-01-11 07:45:00+05:00', '2012-01-11 07:45:00+05:00'],\n",
       "              dtype='datetime64[ns, pytz.FixedOffset(300)]', name='PeriodID', length=5951880, freq=None)"
      ]
     },
     "execution_count": 60,
     "metadata": {},
     "output_type": "execute_result"
    }
   ],
   "source": [
    "import datetime as dt\n",
    "import pytz\n",
    "meh.index.tz_convert(tz=pytz.FixedOffset(300))"
   ]
  },
  {
   "cell_type": "code",
   "execution_count": null,
   "metadata": {},
   "outputs": [],
   "source": []
  }
 ],
 "metadata": {
  "kernelspec": {
   "display_name": "Python 3",
   "language": "python",
   "name": "python3"
  },
  "language_info": {
   "codemirror_mode": {
    "name": "ipython",
    "version": 3
   },
   "file_extension": ".py",
   "mimetype": "text/x-python",
   "name": "python",
   "nbconvert_exporter": "python",
   "pygments_lexer": "ipython3",
   "version": "3.6.8"
  }
 },
 "nbformat": 4,
 "nbformat_minor": 4
}
