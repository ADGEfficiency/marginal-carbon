{
 "cells": [
  {
   "cell_type": "markdown",
   "metadata": {},
   "source": [
    "Reading xml files"
   ]
  },
  {
   "cell_type": "code",
   "execution_count": 4,
   "metadata": {},
   "outputs": [
    {
     "data": {
      "text/html": [
       "<div>\n",
       "<style scoped>\n",
       "    .dataframe tbody tr th:only-of-type {\n",
       "        vertical-align: middle;\n",
       "    }\n",
       "\n",
       "    .dataframe tbody tr th {\n",
       "        vertical-align: top;\n",
       "    }\n",
       "\n",
       "    .dataframe thead th {\n",
       "        text-align: right;\n",
       "    }\n",
       "</style>\n",
       "<table border=\"1\" class=\"dataframe\">\n",
       "  <thead>\n",
       "    <tr style=\"text-align: right;\">\n",
       "      <th></th>\n",
       "      <th>BandCost</th>\n",
       "      <th>BandNo</th>\n",
       "      <th>DispatchedMarket</th>\n",
       "      <th>Increase</th>\n",
       "      <th>Market</th>\n",
       "      <th>PeriodID</th>\n",
       "      <th>Price</th>\n",
       "      <th>RRNBandPrice</th>\n",
       "      <th>RegionID</th>\n",
       "      <th>Unit</th>\n",
       "    </tr>\n",
       "  </thead>\n",
       "  <tbody>\n",
       "    <tr>\n",
       "      <th>0</th>\n",
       "      <td>18.345101</td>\n",
       "      <td>5</td>\n",
       "      <td>ENOF</td>\n",
       "      <td>0.28319</td>\n",
       "      <td>Energy</td>\n",
       "      <td>2019-06-01T04:05:00+10:00</td>\n",
       "      <td>67.26537</td>\n",
       "      <td>64.78</td>\n",
       "      <td>NSW1</td>\n",
       "      <td>TARONG#1</td>\n",
       "    </tr>\n",
       "    <tr>\n",
       "      <th>1</th>\n",
       "      <td>15.287584</td>\n",
       "      <td>5</td>\n",
       "      <td>ENOF</td>\n",
       "      <td>0.23599</td>\n",
       "      <td>Energy</td>\n",
       "      <td>2019-06-01T04:05:00+10:00</td>\n",
       "      <td>67.26537</td>\n",
       "      <td>64.78</td>\n",
       "      <td>NSW1</td>\n",
       "      <td>TARONG#4</td>\n",
       "    </tr>\n",
       "  </tbody>\n",
       "</table>\n",
       "</div>"
      ],
      "text/plain": [
       "    BandCost BandNo DispatchedMarket Increase  Market  \\\n",
       "0  18.345101      5             ENOF  0.28319  Energy   \n",
       "1  15.287584      5             ENOF  0.23599  Energy   \n",
       "\n",
       "                    PeriodID     Price RRNBandPrice RegionID      Unit  \n",
       "0  2019-06-01T04:05:00+10:00  67.26537        64.78     NSW1  TARONG#1  \n",
       "1  2019-06-01T04:05:00+10:00  67.26537        64.78     NSW1  TARONG#4  "
      ]
     },
     "execution_count": 4,
     "metadata": {},
     "output_type": "execute_result"
    }
   ],
   "source": [
    "import xml.etree.ElementTree as ET\n",
    "\n",
    "import pandas as pd\n",
    "\n",
    "#  file path is to a folder nemde in the users $HOME folder\n",
    "#  keeping data in here allows portability to any UNIX machine \\\n",
    "#   - including AWS Linux instances\n",
    "path = '{}/nem-data/nemde/NemPriceSetter_20190601_xml/NEMPriceSetter_2019060100100.xml'.format(os.environ['HOME'])\n",
    "tree = ET.parse(path)\n",
    "root = tree.getroot()\n",
    "data = [c.attrib for c in root]\n",
    "\n",
    "pd.DataFrame(data).head(2)"
   ]
  },
  {
   "cell_type": "markdown",
   "metadata": {},
   "source": [
    "Scraping NEM data.   First you get lists of URLs (this needs to be done multiple times - to "
   ]
  },
  {
   "cell_type": "code",
   "execution_count": 11,
   "metadata": {},
   "outputs": [
    {
     "data": {
      "text/plain": [
       "['http://www.nemweb.com.au/Data_Archive/Wholesale_Electricity/MMSDM/2019/MMSDM_2019_01',\n",
       " 'http://www.nemweb.com.au/Data_Archive/Wholesale_Electricity/MMSDM/2019/MMSDM_2019_01.zip']"
      ]
     },
     "execution_count": 11,
     "metadata": {},
     "output_type": "execute_result"
    }
   ],
   "source": [
    "import requests\n",
    "import bs4\n",
    "\n",
    "url = 'http://www.nemweb.com.au/Data_Archive/Wholesale_Electricity/MMSDM/2019'\n",
    "req = requests.get(url)\n",
    "assert req.status_code == 200\n",
    "\n",
    "soup = bs4.BeautifulSoup(req.content, 'html.parser')\n",
    "\n",
    "#  find all links in the page\n",
    "links = soup.find_all('a', href=True)\n",
    "\n",
    "#  create the url for each month\n",
    "links = [os.path.join(url, link.get_text())\n",
    "         for link in links]\n",
    "\n",
    "#  remove the first as this the link to parent directory\n",
    "#  show two\n",
    "links[1:][:2]"
   ]
  },
  {
   "cell_type": "code",
   "execution_count": null,
   "metadata": {},
   "outputs": [],
   "source": [
    "#  note that\n",
    "url = 'http://www.nemweb.com.au/Data_Archive/Wholesale_Electricity/MMSDM/2019/MMSDM_2019_07/MMSDM_Historical_Data_SQLLoader/DATA/PUBLIC_DVD_DISPATCH_UNIT_SCADA_201907010000.zip'"
   ]
  }
 ],
 "metadata": {
  "kernelspec": {
   "display_name": "Python 3",
   "language": "python",
   "name": "python3"
  },
  "language_info": {
   "codemirror_mode": {
    "name": "ipython",
    "version": 3
   },
   "file_extension": ".py",
   "mimetype": "text/x-python",
   "name": "python",
   "nbconvert_exporter": "python",
   "pygments_lexer": "ipython3",
   "version": "3.7.2"
  }
 },
 "nbformat": 4,
 "nbformat_minor": 2
}
